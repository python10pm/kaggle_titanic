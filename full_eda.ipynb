{
 "cells": [
  {
   "cell_type": "markdown",
   "metadata": {
    "papermill": {
     "duration": 0.032044,
     "end_time": "2021-03-24T12:59:15.444860",
     "exception": false,
     "start_time": "2021-03-24T12:59:15.412816",
     "status": "completed"
    },
    "tags": []
   },
   "source": [
    "# Welcome to this kernel\n",
    "\n",
    "This is a simple kernel that documented my journey with the Titanic Dataset."
   ]
  },
  {
   "cell_type": "markdown",
   "metadata": {
    "papermill": {
     "duration": 0.031155,
     "end_time": "2021-03-24T12:59:15.506573",
     "exception": false,
     "start_time": "2021-03-24T12:59:15.475418",
     "status": "completed"
    },
    "tags": []
   },
   "source": [
    "<a id = \"toc\"></a>\n",
    "# Table of contents\n",
    "\n",
    "[Installing new libraries](#new_libraries)\n",
    "\n",
    "[Imports of the main libraries](#imports)\n",
    "\n",
    "[Global variables](#global_variables)\n",
    "\n",
    "[Helper functions and classes](#helpers)\n",
    "\n",
    "[Data loading](#data_load)\n",
    "\n",
    "[Train test split](#train_test_split)\n",
    "\n",
    "[Exploratory data analysis (EDA)](#eda)\n",
    "\n",
    "[Feature engineering](#fe)\n",
    "\n",
    "[KFold model training](#model_training)\n",
    "\n",
    "[Test data preparation and predict](#test_data_prep_pred)\n",
    "\n",
    "[Kaggle submission](#kaggle_sub)\n",
    "\n",
    "[CV vs Kaggle LB](#cv_vs_kaggle_lb)"
   ]
  },
  {
   "cell_type": "markdown",
   "metadata": {
    "papermill": {
     "duration": 0.030071,
     "end_time": "2021-03-24T12:59:15.567116",
     "exception": false,
     "start_time": "2021-03-24T12:59:15.537045",
     "status": "completed"
    },
    "tags": []
   },
   "source": [
    "<a id = \"new_libraries\"></a>\n",
    "# Installing new libraries\n",
    "[Go back to the table of contets](#toc)\n",
    "\n",
    "Some cells might be hidden, use the ***unhide button*** to see all the code."
   ]
  },
  {
   "cell_type": "code",
   "execution_count": 1,
   "metadata": {
    "_kg_hide-input": true,
    "execution": {
     "iopub.execute_input": "2021-03-24T12:59:15.636861Z",
     "iopub.status.busy": "2021-03-24T12:59:15.635885Z",
     "iopub.status.idle": "2021-03-24T12:59:15.638713Z",
     "shell.execute_reply": "2021-03-24T12:59:15.638056Z"
    },
    "papermill": {
     "duration": 0.040902,
     "end_time": "2021-03-24T12:59:15.638903",
     "exception": false,
     "start_time": "2021-03-24T12:59:15.598001",
     "status": "completed"
    },
    "tags": []
   },
   "outputs": [],
   "source": [
    "pass"
   ]
  },
  {
   "cell_type": "markdown",
   "metadata": {
    "papermill": {
     "duration": 0.030775,
     "end_time": "2021-03-24T12:59:15.701291",
     "exception": false,
     "start_time": "2021-03-24T12:59:15.670516",
     "status": "completed"
    },
    "tags": []
   },
   "source": [
    "<a id = \"imports\"></a>\n",
    "# Imports of the main libraries\n",
    "[Go back to the table of contets](#toc)\n",
    "\n",
    "Some cells might be hidden, use the ***unhide button*** to see all the code."
   ]
  },
  {
   "cell_type": "code",
   "execution_count": 2,
   "metadata": {
    "_kg_hide-input": true,
    "_kg_hide-output": true,
    "execution": {
     "iopub.execute_input": "2021-03-24T12:59:15.766455Z",
     "iopub.status.busy": "2021-03-24T12:59:15.765704Z",
     "iopub.status.idle": "2021-03-24T12:59:17.375164Z",
     "shell.execute_reply": "2021-03-24T12:59:17.375649Z"
    },
    "papermill": {
     "duration": 1.643808,
     "end_time": "2021-03-24T12:59:17.375830",
     "exception": false,
     "start_time": "2021-03-24T12:59:15.732022",
     "status": "completed"
    },
    "tags": []
   },
   "outputs": [],
   "source": [
    "import numpy as np\n",
    "import pandas as pd\n",
    "\n",
    "from sklearn.ensemble import RandomForestClassifier\n",
    "from sklearn.linear_model import LogisticRegression\n",
    "\n",
    "from sklearn.impute import SimpleImputer, KNNImputer\n",
    "from sklearn.preprocessing import StandardScaler, OrdinalEncoder, OneHotEncoder, PolynomialFeatures\n",
    "\n",
    "from sklearn.pipeline import Pipeline\n",
    "from sklearn.compose import ColumnTransformer\n",
    "\n",
    "from sklearn.neighbors import KNeighborsClassifier\n",
    "\n",
    "from sklearn.base import TransformerMixin, BaseEstimator, clone\n",
    "\n",
    "from sklearn.model_selection import train_test_split, KFold, GridSearchCV, cross_val_score, cross_val_predict\n",
    "from sklearn.metrics import accuracy_score, confusion_matrix\n",
    "\n",
    "from xgboost import XGBClassifier\n",
    "\n",
    "import warnings\n",
    "warnings.filterwarnings(\"ignore\")\n",
    "\n",
    "import seaborn as sns\n",
    "import matplotlib.pyplot as plt\n",
    "%matplotlib inline"
   ]
  },
  {
   "cell_type": "markdown",
   "metadata": {
    "papermill": {
     "duration": 0.030925,
     "end_time": "2021-03-24T12:59:17.438350",
     "exception": false,
     "start_time": "2021-03-24T12:59:17.407425",
     "status": "completed"
    },
    "tags": []
   },
   "source": [
    "<a id = \"global_variables\"></a>\n",
    "# Global variables\n",
    "[Go back to the table of contets](#toc)\n",
    "\n",
    "Some cells might be hidden, use the ***unhide button*** to see all the code."
   ]
  },
  {
   "cell_type": "code",
   "execution_count": 3,
   "metadata": {
    "_kg_hide-input": true,
    "execution": {
     "iopub.execute_input": "2021-03-24T12:59:17.503650Z",
     "iopub.status.busy": "2021-03-24T12:59:17.502992Z",
     "iopub.status.idle": "2021-03-24T12:59:17.506445Z",
     "shell.execute_reply": "2021-03-24T12:59:17.506943Z"
    },
    "papermill": {
     "duration": 0.037426,
     "end_time": "2021-03-24T12:59:17.507120",
     "exception": false,
     "start_time": "2021-03-24T12:59:17.469694",
     "status": "completed"
    },
    "tags": []
   },
   "outputs": [],
   "source": [
    "SEED = 42\n",
    "FOLDS = 4\n",
    "\n",
    "PATH_TRAIN = \"../input/titanic/train.csv\"\n",
    "PATH_TEST = \"../input/titanic/test.csv\""
   ]
  },
  {
   "cell_type": "markdown",
   "metadata": {
    "papermill": {
     "duration": 0.031057,
     "end_time": "2021-03-24T12:59:17.568989",
     "exception": false,
     "start_time": "2021-03-24T12:59:17.537932",
     "status": "completed"
    },
    "tags": []
   },
   "source": [
    "<a id = \"helpers\"></a>\n",
    "# Helper functions and classes\n",
    "[Go back to the table of contets](#toc)\n",
    "\n",
    "Some cells might be hidden, use the ***unhide button*** to see all the code."
   ]
  },
  {
   "cell_type": "code",
   "execution_count": 4,
   "metadata": {
    "_kg_hide-input": true,
    "_kg_hide-output": false,
    "execution": {
     "iopub.execute_input": "2021-03-24T12:59:17.640536Z",
     "iopub.status.busy": "2021-03-24T12:59:17.634335Z",
     "iopub.status.idle": "2021-03-24T12:59:17.670196Z",
     "shell.execute_reply": "2021-03-24T12:59:17.669619Z"
    },
    "papermill": {
     "duration": 0.070404,
     "end_time": "2021-03-24T12:59:17.670347",
     "exception": false,
     "start_time": "2021-03-24T12:59:17.599943",
     "status": "completed"
    },
    "tags": []
   },
   "outputs": [],
   "source": [
    "# ------------------------------------------------------------------------------------------------------\n",
    "# ------------------------------------------------------------------------------------------------------\n",
    "# ------------------------------------------------------------------------------------------------------\n",
    "class DataLoader(object):\n",
    "    '''\n",
    "    Helper class that allows you to load train and test data\n",
    "    '''\n",
    "    def __init__(self, path_train, path_test, drop_columns = None, shuffle = True):\n",
    "        '''\n",
    "        Constructor for the class. \n",
    "        Needs the path for train and test data.\n",
    "        '''        \n",
    "        self.path_train = path_train\n",
    "        self.path_test = path_test\n",
    "        self.drop_columns = drop_columns\n",
    "        self.shuffle = shuffle\n",
    "        \n",
    "    def load_data(self):\n",
    "        '''\n",
    "        Loads train and test and retuns a tupple with the data\n",
    "        '''\n",
    "        train = pd.read_csv(self.path_train)\n",
    "        train.set_index(\"PassengerId\", inplace = True)\n",
    "        \n",
    "        test = pd.read_csv(self.path_test)\n",
    "        test.set_index(\"PassengerId\", inplace = True)\n",
    "        \n",
    "        if self.shuffle: \n",
    "            train = train.sample(frac = 1, random_state = SEED)\n",
    "            test = test.sample(frac = 1, random_state = SEED)\n",
    "        \n",
    "        if self.drop_columns != None:\n",
    "            train.drop(self.drop_columns, inplace = True, axis = 1)\n",
    "            test.drop(self.drop_columns, inplace = True, axis = 1)\n",
    "        \n",
    "        return train, test\n",
    "# ------------------------------------------------------------------------------------------------------\n",
    "# ------------------------------------------------------------------------------------------------------\n",
    "# ------------------------------------------------------------------------------------------------------\n",
    "\n",
    "class NumpyToDataFrame(BaseEstimator, TransformerMixin):\n",
    "    '''\n",
    "    Class that helps you convert a Numpy Array into a pandas DataFrame inside sklearn pipelines\n",
    "    '''\n",
    "    def __init__(self, columns, index = None):\n",
    "        '''\n",
    "        Constructor for the class.\n",
    "        Expects index and columns as parameters.\n",
    "        '''\n",
    "        self.columns = columns\n",
    "        self.index = index\n",
    "        \n",
    "    def fit(self, X, y = None):\n",
    "        return self\n",
    "    \n",
    "    def transform(self, X, y = None):\n",
    "        \n",
    "        if self.index != None:\n",
    "            X = pd.DataFrame(X, index = self.index, columns = self.columns)\n",
    "            \n",
    "        else:\n",
    "            X = pd.DataFrame(X, columns = self.columns)\n",
    "            \n",
    "        return X\n",
    "# ------------------------------------------------------------------------------------------------------\n",
    "# ------------------------------------------------------------------------------------------------------\n",
    "# ------------------------------------------------------------------------------------------------------    \n",
    "class FeatureGenerator(BaseEstimator, TransformerMixin):\n",
    "    '''\n",
    "    Class that generates features and works with sklearn pipeline\n",
    "    '''\n",
    "    def __init__(self):\n",
    "        pass\n",
    "    \n",
    "    def fit(self, X, y = None):\n",
    "        return self\n",
    "    \n",
    "    def transform(self, X, y = None):\n",
    "        \n",
    "        X[\"AgeQcut\"] = X.apply(create_partition, axis = 1)\n",
    "        X[\"PclassSex\"] = X.apply(lambda row: str.title(row[\"Sex\"]) + \" \" + str(row[\"Pclass\"]), axis = 1)\n",
    "        X[\"NameLen\"] = X[\"Name\"].apply(lambda name: (len(name.split(\" \"))))\n",
    "        \n",
    "        return X\n",
    "# ------------------------------------------------------------------------------------------------------\n",
    "# ------------------------------------------------------------------------------------------------------\n",
    "# ------------------------------------------------------------------------------------------------------    \n",
    "cleaning_dict = {\n",
    "    'Mr': 'Mr',\n",
    "    'Don': \"Mr\",\n",
    "    \n",
    "    'Miss': 'Miss',\n",
    "    'Ms': \"Miss\",\n",
    "    'Mme': \"Miss\",\n",
    "    'Lady': \"Miss\",\n",
    "    'Dona': \"Miss\",\n",
    "    \n",
    "    'Mrs': 'Mrs',\n",
    "    'Mlle': \"Mrs\",\n",
    "    \n",
    "    'Master': \"Master\",\n",
    "    \n",
    "    'Rev': \"Other\",\n",
    "    'Dr': \"Other\",\n",
    "    'Col': \"Other\",\n",
    "    'Major': \"Other\",\n",
    "    'Sir': \"Other\",\n",
    "    'Capt': \"Other\",\n",
    "    'Jonkheer': \"Other\",\n",
    "    'the Countess': \"Other\"\n",
    "}\n",
    "\n",
    "class TitleExtractor(BaseEstimator, TransformerMixin):\n",
    "    '''\n",
    "    Class that will allow us to extract useful features from the Names column\n",
    "    '''\n",
    "    def __init__(self, cleaning_dict):\n",
    "        self.cleaning_dict = cleaning_dict\n",
    "    \n",
    "    def fit(self, X, y = None):\n",
    "        return self\n",
    "    \n",
    "    def transform(self, X, y = None):\n",
    "        \n",
    "        X[\"NameSplitted\"] = X[\"Name\"].str.split(\",\")\n",
    "        X[\"Title\"] = X[\"NameSplitted\"].apply(lambda list_names: list_names[1].split(\".\")[0][1::])\n",
    "        X[\"Title\"] = X[\"Title\"].map(self.cleaning_dict)\n",
    "        \n",
    "        return X\n",
    "# ------------------------------------------------------------------------------------------------------\n",
    "# ------------------------------------------------------------------------------------------------------\n",
    "# ------------------------------------------------------------------------------------------------------    \n",
    "class ColumnDropper(BaseEstimator, TransformerMixin):\n",
    "    '''\n",
    "    Drops the columns you specify inside a sklearn pipeline\n",
    "    '''\n",
    "    def __init__(self, columns_to_drop):\n",
    "        self.columns_to_drop = columns_to_drop\n",
    "    def fit(self, X, y = None):\n",
    "        return self\n",
    "    def transform(self, X, y = None):\n",
    "        X.drop(self.columns_to_drop, axis = 1, inplace = True)\n",
    "        return X\n",
    "# ------------------------------------------------------------------------------------------------------\n",
    "# ------------------------------------------------------------------------------------------------------\n",
    "# ------------------------------------------------------------------------------------------------------    \n",
    "class TicketExtractor(BaseEstimator, TransformerMixin):\n",
    "    '''\n",
    "    Class that performs manipulation of the Ticket column and works with sklearn pipelines\n",
    "    '''\n",
    "    def __init__(self):\n",
    "        pass\n",
    "    \n",
    "    def fit(self, X, y = None):\n",
    "        family_tickets = X[\"Ticket\"].value_counts().to_frame().reset_index()\n",
    "        family_tickets.rename(columns = {\"Ticket\": \"FamilyMembers\", \"index\":\"Ticket\"}, inplace = True)\n",
    "        mapping_dict = {ticket:family_member for ticket, family_member in zip(family_tickets[\"Ticket\"].values, family_tickets[\"FamilyMembers\"].values)}\n",
    "        self.mapping_dict = mapping_dict\n",
    "        return self\n",
    "    \n",
    "    def transform(self, X, y = None):\n",
    "        X[\"FamilyMembers\"] = X[\"Ticket\"].map(self.mapping_dict)\n",
    "        X[\"FamilyMembers\"].fillna(1, inplace = True)\n",
    "        return X"
   ]
  },
  {
   "cell_type": "markdown",
   "metadata": {
    "papermill": {
     "duration": 0.031022,
     "end_time": "2021-03-24T12:59:17.732796",
     "exception": false,
     "start_time": "2021-03-24T12:59:17.701774",
     "status": "completed"
    },
    "tags": []
   },
   "source": [
    "<a id = \"data_load\"></a>\n",
    "# Data loading\n",
    "[Go back to the table of contets](#toc)\n",
    "\n",
    "Some cells might be hidden, use the ***unhide button*** to see all the code."
   ]
  },
  {
   "cell_type": "code",
   "execution_count": 5,
   "metadata": {
    "_kg_hide-input": true,
    "_kg_hide-output": false,
    "execution": {
     "iopub.execute_input": "2021-03-24T12:59:17.798653Z",
     "iopub.status.busy": "2021-03-24T12:59:17.797727Z",
     "iopub.status.idle": "2021-03-24T12:59:17.802572Z",
     "shell.execute_reply": "2021-03-24T12:59:17.803025Z"
    },
    "papermill": {
     "duration": 0.039466,
     "end_time": "2021-03-24T12:59:17.803216",
     "exception": false,
     "start_time": "2021-03-24T12:59:17.763750",
     "status": "completed"
    },
    "tags": []
   },
   "outputs": [],
   "source": [
    "# we will add this columns later in our journey\n",
    "# DROP_COLUMNS = None\n",
    "DROP_COLUMNS_TRAIN = [\"SibSp\", \"Parch\", \"Ticket\", \"Fare\", \"Cabin\", \"Embarked\"]\n",
    "data_loader_train = DataLoader(path_train = PATH_TRAIN, path_test = PATH_TEST, drop_columns = DROP_COLUMNS_TRAIN)\n",
    "\n",
    "DROP_COLUMNS_EDA = None\n",
    "data_loader_eda = DataLoader(path_train = PATH_TRAIN, path_test = PATH_TEST, drop_columns = DROP_COLUMNS_EDA)"
   ]
  },
  {
   "cell_type": "markdown",
   "metadata": {
    "papermill": {
     "duration": 0.032472,
     "end_time": "2021-03-24T12:59:17.866963",
     "exception": false,
     "start_time": "2021-03-24T12:59:17.834491",
     "status": "completed"
    },
    "tags": []
   },
   "source": [
    "<a id = \"train_test_split\"></a>\n",
    "# Train test split\n",
    "[Go back to the table of contets](#toc)\n",
    "\n",
    "Some cells might be hidden, use the ***unhide button*** to see all the code."
   ]
  },
  {
   "cell_type": "code",
   "execution_count": 6,
   "metadata": {
    "_kg_hide-input": true,
    "_kg_hide-output": false,
    "execution": {
     "iopub.execute_input": "2021-03-24T12:59:17.933689Z",
     "iopub.status.busy": "2021-03-24T12:59:17.932746Z",
     "iopub.status.idle": "2021-03-24T12:59:17.936190Z",
     "shell.execute_reply": "2021-03-24T12:59:17.936615Z"
    },
    "papermill": {
     "duration": 0.037994,
     "end_time": "2021-03-24T12:59:17.936784",
     "exception": false,
     "start_time": "2021-03-24T12:59:17.898790",
     "status": "completed"
    },
    "tags": []
   },
   "outputs": [],
   "source": [
    "pass"
   ]
  },
  {
   "cell_type": "markdown",
   "metadata": {
    "papermill": {
     "duration": 0.030819,
     "end_time": "2021-03-24T12:59:17.998444",
     "exception": false,
     "start_time": "2021-03-24T12:59:17.967625",
     "status": "completed"
    },
    "tags": []
   },
   "source": [
    "<a id = \"eda\"></a>\n",
    "# Exploratory data analysis (EDA)\n",
    "[Go back to the table of contets](#toc)\n",
    "\n",
    "Some cells might be hidden, use the ***unhide button*** to see all the code."
   ]
  },
  {
   "cell_type": "markdown",
   "metadata": {
    "papermill": {
     "duration": 0.030965,
     "end_time": "2021-03-24T12:59:18.060294",
     "exception": false,
     "start_time": "2021-03-24T12:59:18.029329",
     "status": "completed"
    },
    "tags": []
   },
   "source": [
    "Let's load our dataframes to perform some EDA and see what kind of data we are dealing with."
   ]
  },
  {
   "cell_type": "code",
   "execution_count": 7,
   "metadata": {
    "_kg_hide-input": true,
    "execution": {
     "iopub.execute_input": "2021-03-24T12:59:18.125814Z",
     "iopub.status.busy": "2021-03-24T12:59:18.124840Z",
     "iopub.status.idle": "2021-03-24T12:59:18.165393Z",
     "shell.execute_reply": "2021-03-24T12:59:18.164722Z"
    },
    "papermill": {
     "duration": 0.074507,
     "end_time": "2021-03-24T12:59:18.165536",
     "exception": false,
     "start_time": "2021-03-24T12:59:18.091029",
     "status": "completed"
    },
    "tags": []
   },
   "outputs": [],
   "source": [
    "X_train_eda, X_test_eda = data_loader_eda.load_data()"
   ]
  },
  {
   "cell_type": "markdown",
   "metadata": {
    "papermill": {
     "duration": 0.030778,
     "end_time": "2021-03-24T12:59:18.227370",
     "exception": false,
     "start_time": "2021-03-24T12:59:18.196592",
     "status": "completed"
    },
    "tags": []
   },
   "source": [
    "Before trying to do fancy plots, let's take a look at the nulls and some basic metrics of our data."
   ]
  },
  {
   "cell_type": "code",
   "execution_count": 8,
   "metadata": {
    "execution": {
     "iopub.execute_input": "2021-03-24T12:59:18.301840Z",
     "iopub.status.busy": "2021-03-24T12:59:18.300999Z",
     "iopub.status.idle": "2021-03-24T12:59:18.371680Z",
     "shell.execute_reply": "2021-03-24T12:59:18.370953Z"
    },
    "papermill": {
     "duration": 0.113273,
     "end_time": "2021-03-24T12:59:18.371818",
     "exception": false,
     "start_time": "2021-03-24T12:59:18.258545",
     "status": "completed"
    },
    "tags": []
   },
   "outputs": [],
   "source": [
    "dataframe_reporter = DataFrameReporter(X_train = X_train_eda, X_test = X_test_eda, target_column = \"Survived\")\n",
    "report_train, report_test = dataframe_reporter.get_reports()"
   ]
  },
  {
   "cell_type": "code",
   "execution_count": 9,
   "metadata": {
    "execution": {
     "iopub.execute_input": "2021-03-24T12:59:18.440575Z",
     "iopub.status.busy": "2021-03-24T12:59:18.439677Z",
     "iopub.status.idle": "2021-03-24T12:59:18.466878Z",
     "shell.execute_reply": "2021-03-24T12:59:18.466416Z"
    },
    "papermill": {
     "duration": 0.064238,
     "end_time": "2021-03-24T12:59:18.467012",
     "exception": false,
     "start_time": "2021-03-24T12:59:18.402774",
     "status": "completed"
    },
    "tags": []
   },
   "outputs": [
    {
     "data": {
      "text/html": [
       "<div>\n",
       "<style scoped>\n",
       "    .dataframe tbody tr th:only-of-type {\n",
       "        vertical-align: middle;\n",
       "    }\n",
       "\n",
       "    .dataframe tbody tr th {\n",
       "        vertical-align: top;\n",
       "    }\n",
       "\n",
       "    .dataframe thead th {\n",
       "        text-align: right;\n",
       "    }\n",
       "</style>\n",
       "<table border=\"1\" class=\"dataframe\">\n",
       "  <thead>\n",
       "    <tr style=\"text-align: right;\">\n",
       "      <th></th>\n",
       "      <th>Dtypes</th>\n",
       "      <th>Shape</th>\n",
       "      <th>Absolute_nulls</th>\n",
       "      <th>Relative_nulls</th>\n",
       "      <th>count</th>\n",
       "      <th>mean</th>\n",
       "      <th>std</th>\n",
       "      <th>min</th>\n",
       "      <th>25%</th>\n",
       "      <th>50%</th>\n",
       "      <th>75%</th>\n",
       "      <th>max</th>\n",
       "      <th>Unique_category</th>\n",
       "    </tr>\n",
       "  </thead>\n",
       "  <tbody>\n",
       "    <tr>\n",
       "      <th>Pclass</th>\n",
       "      <td>int64</td>\n",
       "      <td>891</td>\n",
       "      <td>0</td>\n",
       "      <td>0.0</td>\n",
       "      <td>891.0</td>\n",
       "      <td>2.308642</td>\n",
       "      <td>0.836071</td>\n",
       "      <td>1.00</td>\n",
       "      <td>2.0000</td>\n",
       "      <td>3.0000</td>\n",
       "      <td>3.0</td>\n",
       "      <td>3.0000</td>\n",
       "      <td></td>\n",
       "    </tr>\n",
       "    <tr>\n",
       "      <th>SibSp</th>\n",
       "      <td>int64</td>\n",
       "      <td>891</td>\n",
       "      <td>0</td>\n",
       "      <td>0.0</td>\n",
       "      <td>891.0</td>\n",
       "      <td>0.523008</td>\n",
       "      <td>1.102743</td>\n",
       "      <td>0.00</td>\n",
       "      <td>0.0000</td>\n",
       "      <td>0.0000</td>\n",
       "      <td>1.0</td>\n",
       "      <td>8.0000</td>\n",
       "      <td></td>\n",
       "    </tr>\n",
       "    <tr>\n",
       "      <th>Parch</th>\n",
       "      <td>int64</td>\n",
       "      <td>891</td>\n",
       "      <td>0</td>\n",
       "      <td>0.0</td>\n",
       "      <td>891.0</td>\n",
       "      <td>0.381594</td>\n",
       "      <td>0.806057</td>\n",
       "      <td>0.00</td>\n",
       "      <td>0.0000</td>\n",
       "      <td>0.0000</td>\n",
       "      <td>0.0</td>\n",
       "      <td>6.0000</td>\n",
       "      <td></td>\n",
       "    </tr>\n",
       "    <tr>\n",
       "      <th>Age</th>\n",
       "      <td>float64</td>\n",
       "      <td>891</td>\n",
       "      <td>177</td>\n",
       "      <td>19.9</td>\n",
       "      <td>714.0</td>\n",
       "      <td>29.699118</td>\n",
       "      <td>14.526497</td>\n",
       "      <td>0.42</td>\n",
       "      <td>20.1250</td>\n",
       "      <td>28.0000</td>\n",
       "      <td>38.0</td>\n",
       "      <td>80.0000</td>\n",
       "      <td></td>\n",
       "    </tr>\n",
       "    <tr>\n",
       "      <th>Fare</th>\n",
       "      <td>float64</td>\n",
       "      <td>891</td>\n",
       "      <td>0</td>\n",
       "      <td>0.0</td>\n",
       "      <td>891.0</td>\n",
       "      <td>32.204208</td>\n",
       "      <td>49.693429</td>\n",
       "      <td>0.00</td>\n",
       "      <td>7.9104</td>\n",
       "      <td>14.4542</td>\n",
       "      <td>31.0</td>\n",
       "      <td>512.3292</td>\n",
       "      <td></td>\n",
       "    </tr>\n",
       "    <tr>\n",
       "      <th>Name</th>\n",
       "      <td>object</td>\n",
       "      <td>891</td>\n",
       "      <td>0</td>\n",
       "      <td>0.0</td>\n",
       "      <td></td>\n",
       "      <td></td>\n",
       "      <td></td>\n",
       "      <td></td>\n",
       "      <td></td>\n",
       "      <td></td>\n",
       "      <td></td>\n",
       "      <td></td>\n",
       "      <td>891.0</td>\n",
       "    </tr>\n",
       "    <tr>\n",
       "      <th>Sex</th>\n",
       "      <td>object</td>\n",
       "      <td>891</td>\n",
       "      <td>0</td>\n",
       "      <td>0.0</td>\n",
       "      <td></td>\n",
       "      <td></td>\n",
       "      <td></td>\n",
       "      <td></td>\n",
       "      <td></td>\n",
       "      <td></td>\n",
       "      <td></td>\n",
       "      <td></td>\n",
       "      <td>2.0</td>\n",
       "    </tr>\n",
       "    <tr>\n",
       "      <th>Ticket</th>\n",
       "      <td>object</td>\n",
       "      <td>891</td>\n",
       "      <td>0</td>\n",
       "      <td>0.0</td>\n",
       "      <td></td>\n",
       "      <td></td>\n",
       "      <td></td>\n",
       "      <td></td>\n",
       "      <td></td>\n",
       "      <td></td>\n",
       "      <td></td>\n",
       "      <td></td>\n",
       "      <td>681.0</td>\n",
       "    </tr>\n",
       "    <tr>\n",
       "      <th>Cabin</th>\n",
       "      <td>object</td>\n",
       "      <td>891</td>\n",
       "      <td>687</td>\n",
       "      <td>77.1</td>\n",
       "      <td></td>\n",
       "      <td></td>\n",
       "      <td></td>\n",
       "      <td></td>\n",
       "      <td></td>\n",
       "      <td></td>\n",
       "      <td></td>\n",
       "      <td></td>\n",
       "      <td>147.0</td>\n",
       "    </tr>\n",
       "    <tr>\n",
       "      <th>Embarked</th>\n",
       "      <td>object</td>\n",
       "      <td>891</td>\n",
       "      <td>2</td>\n",
       "      <td>0.2</td>\n",
       "      <td></td>\n",
       "      <td></td>\n",
       "      <td></td>\n",
       "      <td></td>\n",
       "      <td></td>\n",
       "      <td></td>\n",
       "      <td></td>\n",
       "      <td></td>\n",
       "      <td>3.0</td>\n",
       "    </tr>\n",
       "  </tbody>\n",
       "</table>\n",
       "</div>"
      ],
      "text/plain": [
       "           Dtypes  Shape  Absolute_nulls  Relative_nulls  count       mean  \\\n",
       "Pclass      int64    891               0             0.0  891.0   2.308642   \n",
       "SibSp       int64    891               0             0.0  891.0   0.523008   \n",
       "Parch       int64    891               0             0.0  891.0   0.381594   \n",
       "Age       float64    891             177            19.9  714.0  29.699118   \n",
       "Fare      float64    891               0             0.0  891.0  32.204208   \n",
       "Name       object    891               0             0.0                     \n",
       "Sex        object    891               0             0.0                     \n",
       "Ticket     object    891               0             0.0                     \n",
       "Cabin      object    891             687            77.1                     \n",
       "Embarked   object    891               2             0.2                     \n",
       "\n",
       "                std   min      25%      50%   75%       max Unique_category  \n",
       "Pclass     0.836071  1.00   2.0000   3.0000   3.0    3.0000                  \n",
       "SibSp      1.102743  0.00   0.0000   0.0000   1.0    8.0000                  \n",
       "Parch      0.806057  0.00   0.0000   0.0000   0.0    6.0000                  \n",
       "Age       14.526497  0.42  20.1250  28.0000  38.0   80.0000                  \n",
       "Fare      49.693429  0.00   7.9104  14.4542  31.0  512.3292                  \n",
       "Name                                                                  891.0  \n",
       "Sex                                                                     2.0  \n",
       "Ticket                                                                681.0  \n",
       "Cabin                                                                 147.0  \n",
       "Embarked                                                                3.0  "
      ]
     },
     "execution_count": 9,
     "metadata": {},
     "output_type": "execute_result"
    }
   ],
   "source": [
    "report_train"
   ]
  },
  {
   "cell_type": "code",
   "execution_count": 10,
   "metadata": {
    "execution": {
     "iopub.execute_input": "2021-03-24T12:59:18.558044Z",
     "iopub.status.busy": "2021-03-24T12:59:18.557135Z",
     "iopub.status.idle": "2021-03-24T12:59:18.561767Z",
     "shell.execute_reply": "2021-03-24T12:59:18.561250Z"
    },
    "papermill": {
     "duration": 0.062202,
     "end_time": "2021-03-24T12:59:18.561904",
     "exception": false,
     "start_time": "2021-03-24T12:59:18.499702",
     "status": "completed"
    },
    "tags": []
   },
   "outputs": [
    {
     "data": {
      "text/html": [
       "<div>\n",
       "<style scoped>\n",
       "    .dataframe tbody tr th:only-of-type {\n",
       "        vertical-align: middle;\n",
       "    }\n",
       "\n",
       "    .dataframe tbody tr th {\n",
       "        vertical-align: top;\n",
       "    }\n",
       "\n",
       "    .dataframe thead th {\n",
       "        text-align: right;\n",
       "    }\n",
       "</style>\n",
       "<table border=\"1\" class=\"dataframe\">\n",
       "  <thead>\n",
       "    <tr style=\"text-align: right;\">\n",
       "      <th></th>\n",
       "      <th>Dtypes</th>\n",
       "      <th>Shape</th>\n",
       "      <th>Absolute_nulls</th>\n",
       "      <th>Relative_nulls</th>\n",
       "      <th>count</th>\n",
       "      <th>mean</th>\n",
       "      <th>std</th>\n",
       "      <th>min</th>\n",
       "      <th>25%</th>\n",
       "      <th>50%</th>\n",
       "      <th>75%</th>\n",
       "      <th>max</th>\n",
       "      <th>Unique_category</th>\n",
       "    </tr>\n",
       "  </thead>\n",
       "  <tbody>\n",
       "    <tr>\n",
       "      <th>Pclass</th>\n",
       "      <td>int64</td>\n",
       "      <td>418</td>\n",
       "      <td>0</td>\n",
       "      <td>0.0</td>\n",
       "      <td>418.0</td>\n",
       "      <td>2.265550</td>\n",
       "      <td>0.841838</td>\n",
       "      <td>1.00</td>\n",
       "      <td>1.0000</td>\n",
       "      <td>3.0000</td>\n",
       "      <td>3.0</td>\n",
       "      <td>3.0000</td>\n",
       "      <td></td>\n",
       "    </tr>\n",
       "    <tr>\n",
       "      <th>SibSp</th>\n",
       "      <td>int64</td>\n",
       "      <td>418</td>\n",
       "      <td>0</td>\n",
       "      <td>0.0</td>\n",
       "      <td>418.0</td>\n",
       "      <td>0.447368</td>\n",
       "      <td>0.896760</td>\n",
       "      <td>0.00</td>\n",
       "      <td>0.0000</td>\n",
       "      <td>0.0000</td>\n",
       "      <td>1.0</td>\n",
       "      <td>8.0000</td>\n",
       "      <td></td>\n",
       "    </tr>\n",
       "    <tr>\n",
       "      <th>Parch</th>\n",
       "      <td>int64</td>\n",
       "      <td>418</td>\n",
       "      <td>0</td>\n",
       "      <td>0.0</td>\n",
       "      <td>418.0</td>\n",
       "      <td>0.392344</td>\n",
       "      <td>0.981429</td>\n",
       "      <td>0.00</td>\n",
       "      <td>0.0000</td>\n",
       "      <td>0.0000</td>\n",
       "      <td>0.0</td>\n",
       "      <td>9.0000</td>\n",
       "      <td></td>\n",
       "    </tr>\n",
       "    <tr>\n",
       "      <th>Age</th>\n",
       "      <td>float64</td>\n",
       "      <td>418</td>\n",
       "      <td>86</td>\n",
       "      <td>20.6</td>\n",
       "      <td>332.0</td>\n",
       "      <td>30.272590</td>\n",
       "      <td>14.181209</td>\n",
       "      <td>0.17</td>\n",
       "      <td>21.0000</td>\n",
       "      <td>27.0000</td>\n",
       "      <td>39.0</td>\n",
       "      <td>76.0000</td>\n",
       "      <td></td>\n",
       "    </tr>\n",
       "    <tr>\n",
       "      <th>Fare</th>\n",
       "      <td>float64</td>\n",
       "      <td>418</td>\n",
       "      <td>1</td>\n",
       "      <td>0.2</td>\n",
       "      <td>417.0</td>\n",
       "      <td>35.627188</td>\n",
       "      <td>55.907576</td>\n",
       "      <td>0.00</td>\n",
       "      <td>7.8958</td>\n",
       "      <td>14.4542</td>\n",
       "      <td>31.5</td>\n",
       "      <td>512.3292</td>\n",
       "      <td></td>\n",
       "    </tr>\n",
       "    <tr>\n",
       "      <th>Name</th>\n",
       "      <td>object</td>\n",
       "      <td>418</td>\n",
       "      <td>0</td>\n",
       "      <td>0.0</td>\n",
       "      <td></td>\n",
       "      <td></td>\n",
       "      <td></td>\n",
       "      <td></td>\n",
       "      <td></td>\n",
       "      <td></td>\n",
       "      <td></td>\n",
       "      <td></td>\n",
       "      <td>418.0</td>\n",
       "    </tr>\n",
       "    <tr>\n",
       "      <th>Sex</th>\n",
       "      <td>object</td>\n",
       "      <td>418</td>\n",
       "      <td>0</td>\n",
       "      <td>0.0</td>\n",
       "      <td></td>\n",
       "      <td></td>\n",
       "      <td></td>\n",
       "      <td></td>\n",
       "      <td></td>\n",
       "      <td></td>\n",
       "      <td></td>\n",
       "      <td></td>\n",
       "      <td>2.0</td>\n",
       "    </tr>\n",
       "    <tr>\n",
       "      <th>Ticket</th>\n",
       "      <td>object</td>\n",
       "      <td>418</td>\n",
       "      <td>0</td>\n",
       "      <td>0.0</td>\n",
       "      <td></td>\n",
       "      <td></td>\n",
       "      <td></td>\n",
       "      <td></td>\n",
       "      <td></td>\n",
       "      <td></td>\n",
       "      <td></td>\n",
       "      <td></td>\n",
       "      <td>363.0</td>\n",
       "    </tr>\n",
       "    <tr>\n",
       "      <th>Cabin</th>\n",
       "      <td>object</td>\n",
       "      <td>418</td>\n",
       "      <td>327</td>\n",
       "      <td>78.2</td>\n",
       "      <td></td>\n",
       "      <td></td>\n",
       "      <td></td>\n",
       "      <td></td>\n",
       "      <td></td>\n",
       "      <td></td>\n",
       "      <td></td>\n",
       "      <td></td>\n",
       "      <td>76.0</td>\n",
       "    </tr>\n",
       "    <tr>\n",
       "      <th>Embarked</th>\n",
       "      <td>object</td>\n",
       "      <td>418</td>\n",
       "      <td>0</td>\n",
       "      <td>0.0</td>\n",
       "      <td></td>\n",
       "      <td></td>\n",
       "      <td></td>\n",
       "      <td></td>\n",
       "      <td></td>\n",
       "      <td></td>\n",
       "      <td></td>\n",
       "      <td></td>\n",
       "      <td>3.0</td>\n",
       "    </tr>\n",
       "  </tbody>\n",
       "</table>\n",
       "</div>"
      ],
      "text/plain": [
       "           Dtypes  Shape  Absolute_nulls  Relative_nulls  count       mean  \\\n",
       "Pclass      int64    418               0             0.0  418.0   2.265550   \n",
       "SibSp       int64    418               0             0.0  418.0   0.447368   \n",
       "Parch       int64    418               0             0.0  418.0   0.392344   \n",
       "Age       float64    418              86            20.6  332.0  30.272590   \n",
       "Fare      float64    418               1             0.2  417.0  35.627188   \n",
       "Name       object    418               0             0.0                     \n",
       "Sex        object    418               0             0.0                     \n",
       "Ticket     object    418               0             0.0                     \n",
       "Cabin      object    418             327            78.2                     \n",
       "Embarked   object    418               0             0.0                     \n",
       "\n",
       "                std   min      25%      50%   75%       max Unique_category  \n",
       "Pclass     0.841838  1.00   1.0000   3.0000   3.0    3.0000                  \n",
       "SibSp      0.896760  0.00   0.0000   0.0000   1.0    8.0000                  \n",
       "Parch      0.981429  0.00   0.0000   0.0000   0.0    9.0000                  \n",
       "Age       14.181209  0.17  21.0000  27.0000  39.0   76.0000                  \n",
       "Fare      55.907576  0.00   7.8958  14.4542  31.5  512.3292                  \n",
       "Name                                                                  418.0  \n",
       "Sex                                                                     2.0  \n",
       "Ticket                                                                363.0  \n",
       "Cabin                                                                  76.0  \n",
       "Embarked                                                                3.0  "
      ]
     },
     "execution_count": 10,
     "metadata": {},
     "output_type": "execute_result"
    }
   ],
   "source": [
    "report_test"
   ]
  },
  {
   "cell_type": "markdown",
   "metadata": {
    "papermill": {
     "duration": 0.032318,
     "end_time": "2021-03-24T12:59:18.626681",
     "exception": false,
     "start_time": "2021-03-24T12:59:18.594363",
     "status": "completed"
    },
    "tags": []
   },
   "source": [
    "First let's see the distribution of survived in **train data** by Pclass.\n",
    "\n",
    "We can see that while **PClass 3 represented 55% of all passangers on Titanic, the survive rate was only 24%**. On the other side, **Pclass 1 with only 24% of all passangers had a survive rate of almost 63%.**"
   ]
  },
  {
   "cell_type": "code",
   "execution_count": 11,
   "metadata": {
    "_kg_hide-input": true,
    "execution": {
     "iopub.execute_input": "2021-03-24T12:59:18.718615Z",
     "iopub.status.busy": "2021-03-24T12:59:18.717860Z",
     "iopub.status.idle": "2021-03-24T12:59:18.949727Z",
     "shell.execute_reply": "2021-03-24T12:59:18.949011Z"
    },
    "papermill": {
     "duration": 0.289309,
     "end_time": "2021-03-24T12:59:18.949908",
     "exception": false,
     "start_time": "2021-03-24T12:59:18.660599",
     "status": "completed"
    },
    "tags": []
   },
   "outputs": [
    {
     "data": {
      "image/png": "[encoded data removed]",
      "text/plain": [
       "<Figure size 720x576 with 1 Axes>"
      ]
     },
     "metadata": {
      "needs_background": "light"
     },
     "output_type": "display_data"
    }
   ],
   "source": [
    "fig = plt.figure(figsize = (10, 8))\n",
    "ax = fig.add_subplot(111)\n",
    "\n",
    "ax.set_ylim(0, 1)\n",
    "\n",
    "pclass_gb = X_train_eda.groupby(\"Pclass\")[\"Survived\"].agg([np.mean, len]).reset_index()\n",
    "\n",
    "x = pclass_gb[\"Pclass\"].values\n",
    "height = pclass_gb[\"mean\"].values\n",
    "nr_persons = pclass_gb[\"len\"].values\n",
    "nr_persons_pct = nr_persons/sum(nr_persons)\n",
    "colors = [\"#6EC3EE\", \"#F79646\", \"#F08691\"]\n",
    "\n",
    "ax.bar(x = x, height = height, color = colors)\n",
    "\n",
    "fontdict = {'horizontalalignment': 'center', \"fontsize\":\"15\"}\n",
    "\n",
    "for x_, height_, persons_, persons_pct_ in zip(x, height, nr_persons, nr_persons_pct):\n",
    "    text_ = f\"Total persons: {persons_}\\n ({round(persons_pct_*100, 2)}% of total)\"\n",
    "    ax.text(x_, height_ + .05, s = text_, fontdict = fontdict)\n",
    "    \n",
    "    text_survive_rate_ = \"Survive rate\\n\" + str(round(height_*100, 2)) + \"%\"\n",
    "    ax.text(x_, height_*.5, s = text_survive_rate_, fontdict = fontdict)\n",
    "\n",
    "xtick_location = ax.get_xticks()\n",
    "ax.set_xticks([1, 2, 3])\n",
    "ax.set_yticks([])\n",
    "\n",
    "ax.set_xlabel(\"Pclass type\", size = 20)\n",
    "\n",
    "ax.tick_params(axis = \"x\", labelsize = 15)\n",
    "ax.tick_params(axis = \"y\", labelsize = 15)\n",
    "\n",
    "# remove the spines\n",
    "ax.spines[\"top\"].set_color(\"None\")\n",
    "ax.spines[\"left\"].set_color(\"None\")\n",
    "ax.spines[\"right\"].set_color(\"None\")\n",
    "\n",
    "ax.set_title(\"Survive rate by each class\", size = 24)\n",
    "fig.tight_layout()"
   ]
  },
  {
   "cell_type": "markdown",
   "metadata": {
    "papermill": {
     "duration": 0.040075,
     "end_time": "2021-03-24T12:59:19.032774",
     "exception": false,
     "start_time": "2021-03-24T12:59:18.992699",
     "status": "completed"
    },
    "tags": []
   },
   "source": [
    "Now this get's very interesting. If we look into Pclass and sex, we see that **Femmales in Pclass 1 had a survive rate of almost 97%**, **Survive rate for Females in PClass 2 had also a very high survive rate of 92%**, however **Women with Pclass 3 ticket had only a survive rate of 50%**.\n",
    "Another very interesting insight is that **Male with Pclass 3 ticket, accounted for almost 40% of all passangers on Titanic, but their survive rate was of only 13%, which is similar to the ones from Pclass 2, but almos 3 lower that man on PClass 1.**\n",
    "\n",
    "**For tree based models, doing variables like Female 1, Male 1 ... (mixing Sex and Pclass) can be very helpful to separate the dataset and most likely will perform very well.**"
   ]
  },
  {
   "cell_type": "code",
   "execution_count": 12,
   "metadata": {
    "_kg_hide-input": true,
    "execution": {
     "iopub.execute_input": "2021-03-24T12:59:19.133195Z",
     "iopub.status.busy": "2021-03-24T12:59:19.127927Z",
     "iopub.status.idle": "2021-03-24T12:59:19.388812Z",
     "shell.execute_reply": "2021-03-24T12:59:19.388296Z"
    },
    "papermill": {
     "duration": 0.322352,
     "end_time": "2021-03-24T12:59:19.388956",
     "exception": false,
     "start_time": "2021-03-24T12:59:19.066604",
     "status": "completed"
    },
    "tags": []
   },
   "outputs": [
    {
     "data": {
      "image/png": "[encoded data removed]",
      "text/plain": [
       "<Figure size 720x576 with 1 Axes>"
      ]
     },
     "metadata": {
      "needs_background": "light"
     },
     "output_type": "display_data"
    }
   ],
   "source": [
    "fig = plt.figure(figsize = (10, 8))\n",
    "ax = fig.add_subplot(111)\n",
    "\n",
    "ax.set_ylim(0, 1.5)\n",
    "\n",
    "pclass_gb = X_train_eda.groupby([\"Pclass\", \"Sex\"])[\"Survived\"].agg([np.mean, len]).reset_index()\n",
    "pclass_gb[\"PclassSex\"] = pclass_gb.apply(lambda row: str.title(row[\"Sex\"]) + \" \" + str(row[\"Pclass\"]), axis = 1)\n",
    "\n",
    "x = pclass_gb[\"PclassSex\"].values\n",
    "height = pclass_gb[\"mean\"].values\n",
    "nr_persons = pclass_gb[\"len\"].values\n",
    "nr_persons_pct = nr_persons/sum(nr_persons)\n",
    "colors = [\"#6EC3EE\", \"#6EC3EE\", \"#F79646\", \"#F79646\", \"#F08691\", \"#F08691\"]\n",
    "\n",
    "ax.bar(x = x, height = height, color = colors)\n",
    "\n",
    "fontdict = {'horizontalalignment': 'center', \"fontsize\":\"12\"}\n",
    "\n",
    "for x_, height_, persons_, persons_pct_ in zip(x, height, nr_persons, nr_persons_pct):\n",
    "    text_ = f\"Total persons: {persons_}\\n ({round(persons_pct_*100, 2)}% of total)\"\n",
    "    ax.text(x_, height_ + .05, s = text_, fontdict = fontdict)\n",
    "    \n",
    "    text_survive_rate_ = \"Survive rate\\n\" + str(round(height_*100, 2)) + \"%\"\n",
    "    ax.text(x_, height_*.5, s = text_survive_rate_, fontdict = fontdict)\n",
    "\n",
    "ax.set_yticks([])\n",
    "\n",
    "ax.set_xlabel(\"Pclass type and sex\", size = 20)\n",
    "\n",
    "ax.tick_params(axis = \"x\", labelsize = 15)\n",
    "ax.tick_params(axis = \"y\", labelsize = 15)\n",
    "\n",
    "# remove the spines\n",
    "ax.spines[\"top\"].set_color(\"None\")\n",
    "ax.spines[\"left\"].set_color(\"None\")\n",
    "ax.spines[\"right\"].set_color(\"None\")\n",
    "\n",
    "ax.set_title(\"Survive rate by each class and sex\", size = 24)\n",
    "fig.tight_layout()"
   ]
  },
  {
   "cell_type": "markdown",
   "metadata": {
    "papermill": {
     "duration": 0.036572,
     "end_time": "2021-03-24T12:59:19.462463",
     "exception": false,
     "start_time": "2021-03-24T12:59:19.425891",
     "status": "completed"
    },
    "tags": []
   },
   "source": [
    "Okay, so the following plot is very interesting. If we create different **partitions by age** and look at a heatmap of mean survive rate by **Pclass and Sex combination.** We can see that If you where a **female in Class 1 and had a age more than 10, you survive rate is almost 100%.**\n",
    "Something similar we can see if you are Female in Pclass 2. **The survive rate drops a lot when you are in Pclass 3 and less than 60 years.**\n",
    "\n",
    "For Man we can see a different story. **Te survive rate is much higher in Pclass 1.**\n",
    "\n",
    "It is very interesting to note that we have a huge portion of all passangers concentrated in **Males Pclass 3 (22%) but the survive rate is 0.13.**"
   ]
  },
  {
   "cell_type": "code",
   "execution_count": 13,
   "metadata": {
    "_kg_hide-input": true,
    "execution": {
     "iopub.execute_input": "2021-03-24T12:59:19.539047Z",
     "iopub.status.busy": "2021-03-24T12:59:19.538381Z",
     "iopub.status.idle": "2021-03-24T12:59:22.195381Z",
     "shell.execute_reply": "2021-03-24T12:59:22.195816Z"
    },
    "papermill": {
     "duration": 2.696886,
     "end_time": "2021-03-24T12:59:22.195989",
     "exception": false,
     "start_time": "2021-03-24T12:59:19.499103",
     "status": "completed"
    },
    "tags": []
   },
   "outputs": [
    {
     "data": {
      "image/png": "[encoded data removed]",
      "text/plain": [
       "<Figure size 1728x1152 with 7 Axes>"
      ]
     },
     "metadata": {
      "needs_background": "light"
     },
     "output_type": "display_data"
    }
   ],
   "source": [
    "def create_partition(row):\n",
    "    '''\n",
    "    Creates different partitions in our dataframe based on the age.\n",
    "    '''\n",
    "    age = row[\"Age\"]\n",
    "\n",
    "    if 0 <= age < 10:\n",
    "        return \"1. (0-10]\"\n",
    "\n",
    "    elif 10 <= age < 20:\n",
    "        return \"2. (10-20]\"\n",
    "\n",
    "    elif 20 <= age < 30:\n",
    "        return \"3. (20-30]\"\n",
    "    \n",
    "    elif 30 <= age < 40:\n",
    "        return \"4. (30-40]\"\n",
    "    \n",
    "    elif 40 <= age < 50:\n",
    "        return \"5. (40-50]\"\n",
    "    \n",
    "    elif 50 <= age < 60:\n",
    "        return \"6. (50-60]\"\n",
    "    \n",
    "    elif 60 <= age < 70:\n",
    "        return \"7. (60-70]\"\n",
    "    \n",
    "    elif 70 <= age < 80:\n",
    "        return \"8. (70-80]\"\n",
    "    \n",
    "    elif 80 <= age < 90:\n",
    "        return \"9. (80-90]\"\n",
    "    \n",
    "    elif age >= 90:\n",
    "        return \"10. [90\"\n",
    "        \n",
    "    else:\n",
    "        return \"NaN\"\n",
    "\n",
    "def create_new_annotations(X):\n",
    "    '''\n",
    "    Creates new annotations for our heamap.\n",
    "    '''\n",
    "    ll = []\n",
    "    for list_ in X.values:\n",
    "        l = []\n",
    "        for value in list_:\n",
    "            new_value = str(int(value)) + \" (\" + str(round((value/X.sum().sum())*100, 2)) + \"%)\"\n",
    "            l.append(new_value)\n",
    "        ll.append(l)\n",
    "    return ll\n",
    "\n",
    "# ------------------------------------------------------------------------------\n",
    "# prepare data for plotting\n",
    "MARGINS = False\n",
    "CMAP = \"YlOrBr\"\n",
    "\n",
    "if MARGINS:\n",
    "    lc = [\"Female 1\", \"Male 1\", \"Female 2\", \"Male 2\", \"Female 3\", \"Male 3\", \"All\"]\n",
    "else:\n",
    "    lc = [\"Female 1\", \"Male 1\", \"Female 2\", \"Male 2\", \"Female 3\", \"Male 3\"]\n",
    "    \n",
    "imputer = SimpleImputer(strategy = \"mean\")\n",
    "X_train_eda[\"Age\"] = imputer.fit_transform(X_train_eda[\"Age\"].values.reshape(-1, 1))\n",
    "X_test_eda[\"Age\"] = imputer.transform(X_test_eda[\"Age\"].values.reshape(-1, 1))\n",
    "\n",
    "X_train_eda[\"AgeQcut\"] = X_train_eda.apply(create_partition, axis = 1)\n",
    "X_train_eda[\"PclassSex\"] = X_train_eda.apply(lambda row: str.title(row[\"Sex\"]) + \" \" + str(row[\"Pclass\"]), axis = 1)\n",
    "\n",
    "X_test_eda[\"AgeQcut\"] = X_test_eda.apply(create_partition, axis = 1)\n",
    "X_test_eda[\"PclassSex\"] = X_test_eda.apply(lambda row: str.title(row[\"Sex\"]) + \" \" + str(row[\"Pclass\"]), axis = 1)\n",
    "\n",
    "pt_surv = X_train_eda.pivot_table(index = \"AgeQcut\", columns = \"PclassSex\", values = \"Survived\", aggfunc = np.mean, margins = MARGINS, fill_value = 0)\n",
    "pt_surv = pt_surv[lc]\n",
    "\n",
    "pt_len_train = X_train_eda.pivot_table(index = \"AgeQcut\", columns = \"PclassSex\", values = \"Survived\", aggfunc = len, margins = MARGINS, fill_value = 0)\n",
    "pt_len_train = pt_len_train[lc]\n",
    "\n",
    "pt_len_test = X_test_eda.pivot_table(index = \"AgeQcut\", columns = \"PclassSex\", values = \"Age\", aggfunc = len, margins = MARGINS, fill_value = 0)\n",
    "pt_len_test = pt_len_test[lc]\n",
    "\n",
    "annotatios_train = create_new_annotations(pt_len_train)\n",
    "annotatios_test = create_new_annotations(pt_len_test)\n",
    "\n",
    "# ------------------------------------------------------------------------------\n",
    "# plotting part\n",
    "fig = plt.figure(figsize = (24, 16))\n",
    "(ax1, ax2), (ax3, ax4) = fig.subplots(2, 2)\n",
    "\n",
    "sns.heatmap(pt_surv, ax = ax1, cmap = CMAP, annot = True)\n",
    "ax1.set_title(\"Survive rate by Pclass-Sex and Age Partition Train\")\n",
    "\n",
    "sns.heatmap(pt_len_train, ax = ax2, cmap = CMAP, annot = annotatios_train, fmt = '')\n",
    "ax2.set_title(\"% Passangers by Pclass-Sex and Age Partition Train\");\n",
    "\n",
    "ax3.set_xticks([])\n",
    "ax3.set_yticks([])\n",
    "\n",
    "ax3.spines[\"top\"].set_color(\"None\")\n",
    "ax3.spines[\"left\"].set_color(\"None\")\n",
    "ax3.spines[\"right\"].set_color(\"None\")\n",
    "ax3.spines[\"bottom\"].set_color(\"None\")\n",
    "\n",
    "sns.heatmap(pt_len_test, ax = ax4, cmap = CMAP, annot = annotatios_test, fmt = '')\n",
    "ax4.set_title(\"% Passangers by Pclass-Sex and Age Partition Test\");"
   ]
  },
  {
   "cell_type": "markdown",
   "metadata": {
    "papermill": {
     "duration": 0.039899,
     "end_time": "2021-03-24T12:59:22.277228",
     "exception": false,
     "start_time": "2021-03-24T12:59:22.237329",
     "status": "completed"
    },
    "tags": []
   },
   "source": [
    "We can see that the embarked port also had an impact on the overall survive rate, but most likely it has to deal with the fact that in some ports embarked more rich people and in others more poor ones. I will take a deeper look in the future kernels."
   ]
  },
  {
   "cell_type": "code",
   "execution_count": 14,
   "metadata": {
    "_kg_hide-input": true,
    "execution": {
     "iopub.execute_input": "2021-03-24T12:59:22.376708Z",
     "iopub.status.busy": "2021-03-24T12:59:22.370323Z",
     "iopub.status.idle": "2021-03-24T12:59:22.571747Z",
     "shell.execute_reply": "2021-03-24T12:59:22.572422Z"
    },
    "papermill": {
     "duration": 0.255306,
     "end_time": "2021-03-24T12:59:22.572602",
     "exception": false,
     "start_time": "2021-03-24T12:59:22.317296",
     "status": "completed"
    },
    "tags": []
   },
   "outputs": [
    {
     "data": {
      "image/png": "[encoded data removed]",
      "text/plain": [
       "<Figure size 720x576 with 1 Axes>"
      ]
     },
     "metadata": {
      "needs_background": "light"
     },
     "output_type": "display_data"
    }
   ],
   "source": [
    "fig = plt.figure(figsize = (10, 8))\n",
    "ax = fig.add_subplot(111)\n",
    "\n",
    "ax.set_ylim(0, 1)\n",
    "\n",
    "imputer = SimpleImputer(strategy = \"most_frequent\")\n",
    "\n",
    "X_train_eda[\"Embarked\"] = imputer.fit_transform(X_train_eda[\"Embarked\"].values.reshape(-1, 1))\n",
    "\n",
    "pclass_gb = X_train_eda.groupby(\"Embarked\")[\"Survived\"].agg([np.mean, len]).reset_index()\n",
    "\n",
    "x = pclass_gb[\"Embarked\"].values\n",
    "height = pclass_gb[\"mean\"].values\n",
    "nr_persons = pclass_gb[\"len\"].values\n",
    "nr_persons_pct = nr_persons/sum(nr_persons)\n",
    "colors = [\"#6EC3EE\", \"#F79646\", \"#F08691\"]\n",
    "\n",
    "ax.bar(x = x, height = height, color = colors)\n",
    "\n",
    "fontdict = {'horizontalalignment': 'center', \"fontsize\":\"15\"}\n",
    "\n",
    "for x_, height_, persons_, persons_pct_ in zip(x, height, nr_persons, nr_persons_pct):\n",
    "    text_ = f\"Total persons: {persons_}\\n ({round(persons_pct_*100, 2)}% of total)\"\n",
    "    ax.text(x_, height_ + .05, s = text_, fontdict = fontdict)\n",
    "    \n",
    "    text_survive_rate_ = \"Survive rate\\n\" + str(round(height_*100, 2)) + \"%\"\n",
    "    ax.text(x_, height_*.5, s = text_survive_rate_, fontdict = fontdict)\n",
    "\n",
    "xtick_location = ax.get_xticks()\n",
    "\n",
    "ax.set_yticks([])\n",
    "\n",
    "ax.set_xlabel(\"Embarked port\", size = 20)\n",
    "\n",
    "ax.tick_params(axis = \"x\", labelsize = 15)\n",
    "ax.tick_params(axis = \"y\", labelsize = 15)\n",
    "\n",
    "# remove the spines\n",
    "ax.spines[\"top\"].set_color(\"None\")\n",
    "ax.spines[\"left\"].set_color(\"None\")\n",
    "ax.spines[\"right\"].set_color(\"None\")\n",
    "\n",
    "ax.set_title(\"Survive rate by embarked port\", size = 24)\n",
    "fig.tight_layout()"
   ]
  },
  {
   "cell_type": "markdown",
   "metadata": {
    "papermill": {
     "duration": 0.041868,
     "end_time": "2021-03-24T12:59:22.656713",
     "exception": false,
     "start_time": "2021-03-24T12:59:22.614845",
     "status": "completed"
    },
    "tags": []
   },
   "source": [
    "Let's crunch a little bit the **Names** column and try to extract some useful features."
   ]
  },
  {
   "cell_type": "code",
   "execution_count": 15,
   "metadata": {
    "execution": {
     "iopub.execute_input": "2021-03-24T12:59:22.771139Z",
     "iopub.status.busy": "2021-03-24T12:59:22.748163Z",
     "iopub.status.idle": "2021-03-24T12:59:22.797818Z",
     "shell.execute_reply": "2021-03-24T12:59:22.797199Z"
    },
    "papermill": {
     "duration": 0.099501,
     "end_time": "2021-03-24T12:59:22.797967",
     "exception": false,
     "start_time": "2021-03-24T12:59:22.698466",
     "status": "completed"
    },
    "tags": []
   },
   "outputs": [
    {
     "data": {
      "text/html": [
       "<div>\n",
       "<style scoped>\n",
       "    .dataframe tbody tr th:only-of-type {\n",
       "        vertical-align: middle;\n",
       "    }\n",
       "\n",
       "    .dataframe tbody tr th {\n",
       "        vertical-align: top;\n",
       "    }\n",
       "\n",
       "    .dataframe thead th {\n",
       "        text-align: right;\n",
       "    }\n",
       "</style>\n",
       "<table border=\"1\" class=\"dataframe\">\n",
       "  <thead>\n",
       "    <tr style=\"text-align: right;\">\n",
       "      <th></th>\n",
       "      <th>train</th>\n",
       "      <th>test</th>\n",
       "      <th>Total</th>\n",
       "      <th>Survival_rate_train</th>\n",
       "    </tr>\n",
       "  </thead>\n",
       "  <tbody>\n",
       "    <tr>\n",
       "      <th>Mr</th>\n",
       "      <td>518</td>\n",
       "      <td>240</td>\n",
       "      <td>758</td>\n",
       "      <td>15.6371</td>\n",
       "    </tr>\n",
       "    <tr>\n",
       "      <th>Miss</th>\n",
       "      <td>185</td>\n",
       "      <td>80</td>\n",
       "      <td>265</td>\n",
       "      <td>70.2703</td>\n",
       "    </tr>\n",
       "    <tr>\n",
       "      <th>Mrs</th>\n",
       "      <td>127</td>\n",
       "      <td>72</td>\n",
       "      <td>199</td>\n",
       "      <td>79.5276</td>\n",
       "    </tr>\n",
       "    <tr>\n",
       "      <th>Master</th>\n",
       "      <td>40</td>\n",
       "      <td>21</td>\n",
       "      <td>61</td>\n",
       "      <td>57.5000</td>\n",
       "    </tr>\n",
       "    <tr>\n",
       "      <th>Other</th>\n",
       "      <td>21</td>\n",
       "      <td>5</td>\n",
       "      <td>26</td>\n",
       "      <td>33.3333</td>\n",
       "    </tr>\n",
       "  </tbody>\n",
       "</table>\n",
       "</div>"
      ],
      "text/plain": [
       "        train  test  Total  Survival_rate_train\n",
       "Mr        518   240    758              15.6371\n",
       "Miss      185    80    265              70.2703\n",
       "Mrs       127    72    199              79.5276\n",
       "Master     40    21     61              57.5000\n",
       "Other      21     5     26              33.3333"
      ]
     },
     "execution_count": 15,
     "metadata": {},
     "output_type": "execute_result"
    }
   ],
   "source": [
    "title_extractor = TitleExtractor(cleaning_dict = cleaning_dict)\n",
    "X_train_eda = title_extractor.fit_transform(X_train_eda)\n",
    "vc_train = X_train_eda[\"Title\"].value_counts().to_frame()\n",
    "vc_train[\"Origin\"] = \"train\"\n",
    "\n",
    "X_test_eda = title_extractor.fit_transform(X_test_eda)\n",
    "vc_test = X_test_eda[\"Title\"].value_counts().to_frame()\n",
    "vc_test[\"Origin\"] = \"test\"\n",
    "\n",
    "vc = vc_train.append(vc_test)\n",
    "vc = vc.pivot_table(index = vc.index, columns = \"Origin\", aggfunc = \"sum\", fill_value = 0)\n",
    "vc.columns = [\"test\", \"train\"]\n",
    "vc[\"Total\"] = vc[\"test\"] + vc[\"train\"]\n",
    "vc = vc[[\"train\", \"test\", \"Total\"]]\n",
    "vc.sort_values(\"Total\", inplace = True, ascending = False)\n",
    "\n",
    "survival_rate = X_train_eda[[\"Title\", \"Survived\"]].pivot_table(index = \"Title\", aggfunc = np.mean).rename(columns = {\"Survived\":\"Survival_rate_train\"})\n",
    "survival_rate[\"Survival_rate_train\"] = survival_rate[\"Survival_rate_train\"].apply(lambda rate: round(rate * 100, 4))\n",
    "vc = pd.concat([vc, survival_rate], axis = 1)\n",
    "vc"
   ]
  },
  {
   "cell_type": "markdown",
   "metadata": {
    "papermill": {
     "duration": 0.042436,
     "end_time": "2021-03-24T12:59:22.883906",
     "exception": false,
     "start_time": "2021-03-24T12:59:22.841470",
     "status": "completed"
    },
    "tags": []
   },
   "source": [
    "Now let's explore the **Ticket** column and try to get some insights from it."
   ]
  },
  {
   "cell_type": "code",
   "execution_count": 16,
   "metadata": {
    "_kg_hide-input": true,
    "execution": {
     "iopub.execute_input": "2021-03-24T12:59:22.971921Z",
     "iopub.status.busy": "2021-03-24T12:59:22.971309Z",
     "iopub.status.idle": "2021-03-24T12:59:23.009986Z",
     "shell.execute_reply": "2021-03-24T12:59:23.009455Z"
    },
    "papermill": {
     "duration": 0.083942,
     "end_time": "2021-03-24T12:59:23.010144",
     "exception": false,
     "start_time": "2021-03-24T12:59:22.926202",
     "status": "completed"
    },
    "tags": []
   },
   "outputs": [
    {
     "data": {
      "text/html": [
       "<div>\n",
       "<style scoped>\n",
       "    .dataframe tbody tr th:only-of-type {\n",
       "        vertical-align: middle;\n",
       "    }\n",
       "\n",
       "    .dataframe tbody tr th {\n",
       "        vertical-align: top;\n",
       "    }\n",
       "\n",
       "    .dataframe thead th {\n",
       "        text-align: right;\n",
       "    }\n",
       "</style>\n",
       "<table border=\"1\" class=\"dataframe\">\n",
       "  <thead>\n",
       "    <tr style=\"text-align: right;\">\n",
       "      <th>Pclass</th>\n",
       "      <th>1</th>\n",
       "      <th>2</th>\n",
       "      <th>3</th>\n",
       "    </tr>\n",
       "    <tr>\n",
       "      <th>FamilyMembers</th>\n",
       "      <th></th>\n",
       "      <th></th>\n",
       "      <th></th>\n",
       "    </tr>\n",
       "  </thead>\n",
       "  <tbody>\n",
       "    <tr>\n",
       "      <th>1</th>\n",
       "      <td>47.423</td>\n",
       "      <td>42.056</td>\n",
       "      <td>20.991</td>\n",
       "    </tr>\n",
       "    <tr>\n",
       "      <th>2</th>\n",
       "      <td>73.611</td>\n",
       "      <td>56.250</td>\n",
       "      <td>41.176</td>\n",
       "    </tr>\n",
       "    <tr>\n",
       "      <th>3</th>\n",
       "      <td>85.185</td>\n",
       "      <td>62.500</td>\n",
       "      <td>50.000</td>\n",
       "    </tr>\n",
       "    <tr>\n",
       "      <th>4</th>\n",
       "      <td>70.000</td>\n",
       "      <td>0.000</td>\n",
       "      <td>33.333</td>\n",
       "    </tr>\n",
       "    <tr>\n",
       "      <th>5</th>\n",
       "      <td>0.000</td>\n",
       "      <td>0.000</td>\n",
       "      <td>0.000</td>\n",
       "    </tr>\n",
       "    <tr>\n",
       "      <th>6</th>\n",
       "      <td>0.000</td>\n",
       "      <td>0.000</td>\n",
       "      <td>0.000</td>\n",
       "    </tr>\n",
       "    <tr>\n",
       "      <th>7</th>\n",
       "      <td>0.000</td>\n",
       "      <td>0.000</td>\n",
       "      <td>23.810</td>\n",
       "    </tr>\n",
       "  </tbody>\n",
       "</table>\n",
       "</div>"
      ],
      "text/plain": [
       "Pclass              1       2       3\n",
       "FamilyMembers                        \n",
       "1              47.423  42.056  20.991\n",
       "2              73.611  56.250  41.176\n",
       "3              85.185  62.500  50.000\n",
       "4              70.000   0.000  33.333\n",
       "5               0.000   0.000   0.000\n",
       "6               0.000   0.000   0.000\n",
       "7               0.000   0.000  23.810"
      ]
     },
     "execution_count": 16,
     "metadata": {},
     "output_type": "execute_result"
    }
   ],
   "source": [
    "family_tickets = X_train_eda[\"Ticket\"].value_counts().to_frame().reset_index()\n",
    "family_tickets.rename(columns = {\"Ticket\": \"FamilyMembers\", \"index\":\"Ticket\"}, inplace = True)\n",
    "X_train_eda = pd.merge(X_train_eda, family_tickets, left_on = \"Ticket\", right_on = \"Ticket\")\n",
    "X_train_eda[X_train_eda[\"Ticket\"] == \"SC/Paris 2123\"]\n",
    "# X_train_eda[(X_train_eda[\"FamilyMembers\"] > 1) & (X_train_eda[\"Pclass\"] < 3)]\n",
    "\n",
    "pivot_family_members = X_train_eda.pivot_table(index = \"FamilyMembers\", columns = \"Pclass\", values = \"Survived\", aggfunc = np.mean, fill_value = 0)\n",
    "pivot_family_members.applymap(lambda number: round(number * 100, 3))"
   ]
  },
  {
   "cell_type": "code",
   "execution_count": 17,
   "metadata": {
    "_kg_hide-input": true,
    "execution": {
     "iopub.execute_input": "2021-03-24T12:59:23.099635Z",
     "iopub.status.busy": "2021-03-24T12:59:23.099051Z",
     "iopub.status.idle": "2021-03-24T12:59:23.123377Z",
     "shell.execute_reply": "2021-03-24T12:59:23.122856Z"
    },
    "papermill": {
     "duration": 0.070329,
     "end_time": "2021-03-24T12:59:23.123522",
     "exception": false,
     "start_time": "2021-03-24T12:59:23.053193",
     "status": "completed"
    },
    "tags": []
   },
   "outputs": [
    {
     "data": {
      "text/html": [
       "<div>\n",
       "<style scoped>\n",
       "    .dataframe tbody tr th:only-of-type {\n",
       "        vertical-align: middle;\n",
       "    }\n",
       "\n",
       "    .dataframe tbody tr th {\n",
       "        vertical-align: top;\n",
       "    }\n",
       "\n",
       "    .dataframe thead th {\n",
       "        text-align: right;\n",
       "    }\n",
       "</style>\n",
       "<table border=\"1\" class=\"dataframe\">\n",
       "  <thead>\n",
       "    <tr style=\"text-align: right;\">\n",
       "      <th></th>\n",
       "      <th>Pclass</th>\n",
       "      <th>Name</th>\n",
       "      <th>Sex</th>\n",
       "      <th>Age</th>\n",
       "      <th>SibSp</th>\n",
       "      <th>Parch</th>\n",
       "      <th>Ticket</th>\n",
       "      <th>Fare</th>\n",
       "      <th>Cabin</th>\n",
       "      <th>Embarked</th>\n",
       "      <th>AgeQcut</th>\n",
       "      <th>PclassSex</th>\n",
       "      <th>NameSplitted</th>\n",
       "      <th>Title</th>\n",
       "      <th>FamilyMembers</th>\n",
       "    </tr>\n",
       "    <tr>\n",
       "      <th>PassengerId</th>\n",
       "      <th></th>\n",
       "      <th></th>\n",
       "      <th></th>\n",
       "      <th></th>\n",
       "      <th></th>\n",
       "      <th></th>\n",
       "      <th></th>\n",
       "      <th></th>\n",
       "      <th></th>\n",
       "      <th></th>\n",
       "      <th></th>\n",
       "      <th></th>\n",
       "      <th></th>\n",
       "      <th></th>\n",
       "      <th></th>\n",
       "    </tr>\n",
       "  </thead>\n",
       "  <tbody>\n",
       "  </tbody>\n",
       "</table>\n",
       "</div>"
      ],
      "text/plain": [
       "Empty DataFrame\n",
       "Columns: [Pclass, Name, Sex, Age, SibSp, Parch, Ticket, Fare, Cabin, Embarked, AgeQcut, PclassSex, NameSplitted, Title, FamilyMembers]\n",
       "Index: []"
      ]
     },
     "execution_count": 17,
     "metadata": {},
     "output_type": "execute_result"
    }
   ],
   "source": [
    "ticket_extractor = TicketExtractor()\n",
    "ticket_extractor.fit_transform(X_train_eda[[\"Ticket\", \"Pclass\"]])\n",
    "\n",
    "X_ = ticket_extractor.transform(X_test_eda)\n",
    "multiple_tickets = X_[\"Ticket\"].value_counts()[X_[\"Ticket\"].value_counts() > 1].index\n",
    "X_[(X_[\"Ticket\"].isin(multiple_tickets)) & (X_[\"FamilyMembers\"].isnull())].sort_values(\"Ticket\")"
   ]
  },
  {
   "cell_type": "markdown",
   "metadata": {
    "papermill": {
     "duration": 0.043395,
     "end_time": "2021-03-24T12:59:23.209681",
     "exception": false,
     "start_time": "2021-03-24T12:59:23.166286",
     "status": "completed"
    },
    "tags": []
   },
   "source": [
    "The last column to analyze will be the **Cabin** column. Let's see what we can get from it"
   ]
  },
  {
   "cell_type": "code",
   "execution_count": 18,
   "metadata": {
    "_kg_hide-input": true,
    "execution": {
     "iopub.execute_input": "2021-03-24T12:59:23.304955Z",
     "iopub.status.busy": "2021-03-24T12:59:23.304330Z",
     "iopub.status.idle": "2021-03-24T12:59:23.307211Z",
     "shell.execute_reply": "2021-03-24T12:59:23.307780Z"
    },
    "papermill": {
     "duration": 0.05474,
     "end_time": "2021-03-24T12:59:23.307956",
     "exception": false,
     "start_time": "2021-03-24T12:59:23.253216",
     "status": "completed"
    },
    "tags": []
   },
   "outputs": [
    {
     "data": {
      "text/plain": [
       "1    176\n",
       "2     16\n",
       "3     12\n",
       "Name: Pclass, dtype: int64"
      ]
     },
     "execution_count": 18,
     "metadata": {},
     "output_type": "execute_result"
    }
   ],
   "source": [
    "X_train_eda[~X_train_eda[\"Cabin\"].isnull()][\"Pclass\"].value_counts()"
   ]
  },
  {
   "cell_type": "code",
   "execution_count": 19,
   "metadata": {
    "_kg_hide-input": true,
    "execution": {
     "iopub.execute_input": "2021-03-24T12:59:23.400701Z",
     "iopub.status.busy": "2021-03-24T12:59:23.400043Z",
     "iopub.status.idle": "2021-03-24T12:59:23.405891Z",
     "shell.execute_reply": "2021-03-24T12:59:23.406510Z"
    },
    "papermill": {
     "duration": 0.053506,
     "end_time": "2021-03-24T12:59:23.406685",
     "exception": false,
     "start_time": "2021-03-24T12:59:23.353179",
     "status": "completed"
    },
    "tags": []
   },
   "outputs": [],
   "source": [
    "def create_combined_annotations(X_len, X_values):\n",
    "    '''\n",
    "    Creates combined annotations for our heamap from 2 different sourcers.\n",
    "    '''\n",
    "    ll = []\n",
    "    for lens_, values_ in zip(X_len.values, X_values.values):\n",
    "        l = []\n",
    "        for len_, value_ in zip(lens_, values_):\n",
    "            new_annotatios = str(int(len_)) + \" (\" + str(round((len_/X_len.sum().sum())*100, 2)) + \"% of total)\\nSurvive rate: \" + str(round(value_ * 100, 2)) + \"%\"\n",
    "            l.append(new_annotatios)\n",
    "        ll.append(l)\n",
    "    return ll"
   ]
  },
  {
   "cell_type": "code",
   "execution_count": 20,
   "metadata": {
    "_kg_hide-input": true,
    "execution": {
     "iopub.execute_input": "2021-03-24T12:59:23.500325Z",
     "iopub.status.busy": "2021-03-24T12:59:23.499621Z",
     "iopub.status.idle": "2021-03-24T12:59:23.580628Z",
     "shell.execute_reply": "2021-03-24T12:59:23.581091Z"
    },
    "papermill": {
     "duration": 0.130078,
     "end_time": "2021-03-24T12:59:23.581318",
     "exception": false,
     "start_time": "2021-03-24T12:59:23.451240",
     "status": "completed"
    },
    "tags": []
   },
   "outputs": [],
   "source": [
    "# get the multiple cabins\n",
    "multiple_cabins = X_train_eda[\"Cabin\"].value_counts()[X_train_eda[\"Cabin\"].value_counts() > 1].index\n",
    "\n",
    "# calculate the number of persons and survive rate by Pclass and Sex for all passangers\n",
    "sr_pclass_sex_total = X_train_eda.pivot_table(index = \"Pclass\", columns = \"Sex\", values = \"Survived\", aggfunc = np.mean)\n",
    "sr_pclass_sex_len = X_train_eda.pivot_table(index = \"Pclass\", columns = \"Sex\", values = \"Survived\", aggfunc = len)\n",
    "\n",
    "# calculate the number of persons and survive rate by Pclass and Sex for passangers that traveled in a multiple cabin (more than 1 person)\n",
    "sr_pclass_sex_mc = X_train_eda[X_train_eda[\"Cabin\"].isin(multiple_cabins)].pivot_table(index = \"Pclass\", columns = \"Sex\", values = \"Survived\", aggfunc = np.mean)\n",
    "sr_pclass_sex_mc_len = X_train_eda[X_train_eda[\"Cabin\"].isin(multiple_cabins)].pivot_table(index = \"Pclass\", columns = \"Sex\", values = \"Survived\", aggfunc = len)\n",
    "\n",
    "# calculate the number of persons and survive rate by Pclass and Sex for passangers that traveled in a individual cabin\n",
    "sr_pclass_sex_uc = X_train_eda[~X_train_eda[\"Cabin\"].isin(multiple_cabins)].pivot_table(index = \"Pclass\", columns = \"Sex\", values = \"Survived\", aggfunc = np.mean)\n",
    "sr_pclass_sex_uc_len = X_train_eda[~X_train_eda[\"Cabin\"].isin(multiple_cabins)].pivot_table(index = \"Pclass\", columns = \"Sex\", values = \"Survived\", aggfunc = len)\n",
    "\n",
    "# create new annotations for our heatmap\n",
    "total_annotations = create_combined_annotations(sr_pclass_sex_len, sr_pclass_sex_total)\n",
    "mc_annotations = create_combined_annotations(sr_pclass_sex_mc_len, sr_pclass_sex_mc)\n",
    "uc_annotations = create_combined_annotations(sr_pclass_sex_uc_len, sr_pclass_sex_uc)"
   ]
  },
  {
   "cell_type": "code",
   "execution_count": 21,
   "metadata": {
    "_kg_hide-input": true,
    "execution": {
     "iopub.execute_input": "2021-03-24T12:59:23.675033Z",
     "iopub.status.busy": "2021-03-24T12:59:23.674407Z",
     "iopub.status.idle": "2021-03-24T12:59:24.671649Z",
     "shell.execute_reply": "2021-03-24T12:59:24.672143Z"
    },
    "papermill": {
     "duration": 1.046392,
     "end_time": "2021-03-24T12:59:24.672309",
     "exception": false,
     "start_time": "2021-03-24T12:59:23.625917",
     "status": "completed"
    },
    "tags": []
   },
   "outputs": [
    {
     "data": {
      "image/png": "[encoded data removed]",
      "text/plain": [
       "<Figure size 1440x504 with 6 Axes>"
      ]
     },
     "metadata": {
      "needs_background": "light"
     },
     "output_type": "display_data"
    }
   ],
   "source": [
    "fig = plt.figure(figsize = (20, 7))\n",
    "ax1, ax2, ax3 = fig.subplots(1, 3)\n",
    "\n",
    "sns.heatmap(sr_pclass_sex_total, ax = ax1, cmap = CMAP, annot = total_annotations, fmt = '')\n",
    "sns.heatmap(sr_pclass_sex_mc, ax = ax2, cmap = CMAP, annot = mc_annotations, fmt = '')\n",
    "sns.heatmap(sr_pclass_sex_uc, ax = ax3, cmap = CMAP, annot = uc_annotations, fmt = '')\n",
    "\n",
    "ax1.set_title(\"Survive rate by Pclass\")\n",
    "ax2.set_title(\"Survive rate by Pclass if you are in a multiple cabin (more than 1)\")\n",
    "ax3.set_title(\"Survive rate by Pclass if you are in a individual cabin\")\n",
    "fig.suptitle(\"Survive rate by Pclass and type of cabin.\", fontsize = 30)\n",
    "fig.tight_layout();"
   ]
  },
  {
   "cell_type": "code",
   "execution_count": 22,
   "metadata": {
    "execution": {
     "iopub.execute_input": "2021-03-24T12:59:24.771485Z",
     "iopub.status.busy": "2021-03-24T12:59:24.770842Z",
     "iopub.status.idle": "2021-03-24T12:59:24.873995Z",
     "shell.execute_reply": "2021-03-24T12:59:24.874631Z"
    },
    "papermill": {
     "duration": 0.154102,
     "end_time": "2021-03-24T12:59:24.874796",
     "exception": false,
     "start_time": "2021-03-24T12:59:24.720694",
     "status": "completed"
    },
    "tags": []
   },
   "outputs": [
    {
     "data": {
      "text/html": [
       "<div>\n",
       "<style scoped>\n",
       "    .dataframe tbody tr th:only-of-type {\n",
       "        vertical-align: middle;\n",
       "    }\n",
       "\n",
       "    .dataframe tbody tr th {\n",
       "        vertical-align: top;\n",
       "    }\n",
       "\n",
       "    .dataframe thead th {\n",
       "        text-align: right;\n",
       "    }\n",
       "</style>\n",
       "<table border=\"1\" class=\"dataframe\">\n",
       "  <thead>\n",
       "    <tr style=\"text-align: right;\">\n",
       "      <th>TrainTest</th>\n",
       "      <th>Test</th>\n",
       "      <th>Train</th>\n",
       "      <th>All</th>\n",
       "    </tr>\n",
       "    <tr>\n",
       "      <th>FamilyName</th>\n",
       "      <th></th>\n",
       "      <th></th>\n",
       "      <th></th>\n",
       "    </tr>\n",
       "  </thead>\n",
       "  <tbody>\n",
       "    <tr>\n",
       "      <th>All</th>\n",
       "      <td>418</td>\n",
       "      <td>891</td>\n",
       "      <td>1309</td>\n",
       "    </tr>\n",
       "    <tr>\n",
       "      <th>Andersson</th>\n",
       "      <td>2</td>\n",
       "      <td>9</td>\n",
       "      <td>11</td>\n",
       "    </tr>\n",
       "    <tr>\n",
       "      <th>Sage</th>\n",
       "      <td>4</td>\n",
       "      <td>7</td>\n",
       "      <td>11</td>\n",
       "    </tr>\n",
       "    <tr>\n",
       "      <th>Goodwin</th>\n",
       "      <td>2</td>\n",
       "      <td>6</td>\n",
       "      <td>8</td>\n",
       "    </tr>\n",
       "    <tr>\n",
       "      <th>Asplund</th>\n",
       "      <td>4</td>\n",
       "      <td>4</td>\n",
       "      <td>8</td>\n",
       "    </tr>\n",
       "    <tr>\n",
       "      <th>Davies</th>\n",
       "      <td>4</td>\n",
       "      <td>3</td>\n",
       "      <td>7</td>\n",
       "    </tr>\n",
       "    <tr>\n",
       "      <th>Panula</th>\n",
       "      <td>0</td>\n",
       "      <td>6</td>\n",
       "      <td>6</td>\n",
       "    </tr>\n",
       "    <tr>\n",
       "      <th>Johnson</th>\n",
       "      <td>0</td>\n",
       "      <td>6</td>\n",
       "      <td>6</td>\n",
       "    </tr>\n",
       "    <tr>\n",
       "      <th>Rice</th>\n",
       "      <td>1</td>\n",
       "      <td>5</td>\n",
       "      <td>6</td>\n",
       "    </tr>\n",
       "    <tr>\n",
       "      <th>Ford</th>\n",
       "      <td>2</td>\n",
       "      <td>4</td>\n",
       "      <td>6</td>\n",
       "    </tr>\n",
       "    <tr>\n",
       "      <th>Skoog</th>\n",
       "      <td>0</td>\n",
       "      <td>6</td>\n",
       "      <td>6</td>\n",
       "    </tr>\n",
       "    <tr>\n",
       "      <th>Smith</th>\n",
       "      <td>2</td>\n",
       "      <td>4</td>\n",
       "      <td>6</td>\n",
       "    </tr>\n",
       "    <tr>\n",
       "      <th>Carter</th>\n",
       "      <td>0</td>\n",
       "      <td>6</td>\n",
       "      <td>6</td>\n",
       "    </tr>\n",
       "    <tr>\n",
       "      <th>Brown</th>\n",
       "      <td>2</td>\n",
       "      <td>4</td>\n",
       "      <td>6</td>\n",
       "    </tr>\n",
       "    <tr>\n",
       "      <th>Fortune</th>\n",
       "      <td>2</td>\n",
       "      <td>4</td>\n",
       "      <td>6</td>\n",
       "    </tr>\n",
       "  </tbody>\n",
       "</table>\n",
       "</div>"
      ],
      "text/plain": [
       "TrainTest   Test  Train   All\n",
       "FamilyName                   \n",
       "All          418    891  1309\n",
       "Andersson      2      9    11\n",
       "Sage           4      7    11\n",
       "Goodwin        2      6     8\n",
       "Asplund        4      4     8\n",
       "Davies         4      3     7\n",
       "Panula         0      6     6\n",
       "Johnson        0      6     6\n",
       "Rice           1      5     6\n",
       "Ford           2      4     6\n",
       "Skoog          0      6     6\n",
       "Smith          2      4     6\n",
       "Carter         0      6     6\n",
       "Brown          2      4     6\n",
       "Fortune        2      4     6"
      ]
     },
     "execution_count": 22,
     "metadata": {},
     "output_type": "execute_result"
    }
   ],
   "source": [
    "X_train_eda, X_test_eda = data_loader_eda.load_data()\n",
    "\n",
    "X_train_ = X_train_eda[[\"Name\", \"Sex\", \"Age\", \"Survived\", \"Pclass\", \"Ticket\"]]\n",
    "X_train_[\"TrainTest\"] = \"Train\"\n",
    "\n",
    "X_test_ = X_test_eda[[\"Name\", \"Sex\", \"Age\", \"Pclass\", \"Ticket\"]]\n",
    "X_test_[\"TrainTest\"] = \"Test\"\n",
    "\n",
    "X_ = pd.concat([X_train_, X_test_], axis = 0)\n",
    "\n",
    "class FamilyExtractor(BaseEstimator, TransformerMixin):\n",
    "    '''\n",
    "    This class extracts the family members groups and works with sklearn pipelines.\n",
    "    '''\n",
    "    \n",
    "    def __init__(self):\n",
    "        pass\n",
    "    \n",
    "    def fit(self, X, y = None):\n",
    "        return self\n",
    "    \n",
    "    def transform(self, X, y = None):\n",
    "        \n",
    "        X_transformed = X.copy(deep = True)\n",
    "        X_transformed[\"FamilyName\"] = X_transformed[\"Name\"].apply(lambda full_name: full_name.split(\", \")[0])\n",
    "        X_transformed[\"FamilyNameTicket\"] = X_transformed[\"FamilyName\"] + X_transformed[\"Ticket\"]\n",
    "        \n",
    "        return X_transformed\n",
    "    \n",
    "X_ = FamilyExtractor().fit_transform(X_)\n",
    "pt_df_ = X_.pivot_table(index = \"FamilyName\", columns = \"TrainTest\", values = \"Name\", aggfunc = len, fill_value = 0, margins = True)\n",
    "pt_df_.sort_values(\"All\", ascending = False, inplace = True)\n",
    "pt_df_short_ = pt_df_[pt_df_[\"All\"] > 1]\n",
    "pt_df_short_.head(15)"
   ]
  },
  {
   "cell_type": "code",
   "execution_count": 23,
   "metadata": {
    "_kg_hide-input": true,
    "execution": {
     "iopub.execute_input": "2021-03-24T12:59:24.994906Z",
     "iopub.status.busy": "2021-03-24T12:59:24.994249Z",
     "iopub.status.idle": "2021-03-24T12:59:24.999003Z",
     "shell.execute_reply": "2021-03-24T12:59:24.998413Z"
    },
    "papermill": {
     "duration": 0.075908,
     "end_time": "2021-03-24T12:59:24.999159",
     "exception": false,
     "start_time": "2021-03-24T12:59:24.923251",
     "status": "completed"
    },
    "tags": []
   },
   "outputs": [
    {
     "data": {
      "text/html": [
       "<div>\n",
       "<style scoped>\n",
       "    .dataframe tbody tr th:only-of-type {\n",
       "        vertical-align: middle;\n",
       "    }\n",
       "\n",
       "    .dataframe tbody tr th {\n",
       "        vertical-align: top;\n",
       "    }\n",
       "\n",
       "    .dataframe thead th {\n",
       "        text-align: right;\n",
       "    }\n",
       "</style>\n",
       "<table border=\"1\" class=\"dataframe\">\n",
       "  <thead>\n",
       "    <tr style=\"text-align: right;\">\n",
       "      <th></th>\n",
       "      <th>Name</th>\n",
       "      <th>Sex</th>\n",
       "      <th>Age</th>\n",
       "      <th>Survived</th>\n",
       "      <th>Pclass</th>\n",
       "      <th>Ticket</th>\n",
       "      <th>TrainTest</th>\n",
       "      <th>FamilyName</th>\n",
       "      <th>FamilyNameTicket</th>\n",
       "    </tr>\n",
       "    <tr>\n",
       "      <th>PassengerId</th>\n",
       "      <th></th>\n",
       "      <th></th>\n",
       "      <th></th>\n",
       "      <th></th>\n",
       "      <th></th>\n",
       "      <th></th>\n",
       "      <th></th>\n",
       "      <th></th>\n",
       "      <th></th>\n",
       "    </tr>\n",
       "  </thead>\n",
       "  <tbody>\n",
       "    <tr>\n",
       "      <th>542</th>\n",
       "      <td>Andersson, Miss. Ingeborg Constanzia</td>\n",
       "      <td>female</td>\n",
       "      <td>9.0</td>\n",
       "      <td>0.0</td>\n",
       "      <td>3</td>\n",
       "      <td>347082</td>\n",
       "      <td>Train</td>\n",
       "      <td>Andersson</td>\n",
       "      <td>Andersson347082</td>\n",
       "    </tr>\n",
       "    <tr>\n",
       "      <th>814</th>\n",
       "      <td>Andersson, Miss. Ebba Iris Alfrida</td>\n",
       "      <td>female</td>\n",
       "      <td>6.0</td>\n",
       "      <td>0.0</td>\n",
       "      <td>3</td>\n",
       "      <td>347082</td>\n",
       "      <td>Train</td>\n",
       "      <td>Andersson</td>\n",
       "      <td>Andersson347082</td>\n",
       "    </tr>\n",
       "    <tr>\n",
       "      <th>543</th>\n",
       "      <td>Andersson, Miss. Sigrid Elisabeth</td>\n",
       "      <td>female</td>\n",
       "      <td>11.0</td>\n",
       "      <td>0.0</td>\n",
       "      <td>3</td>\n",
       "      <td>347082</td>\n",
       "      <td>Train</td>\n",
       "      <td>Andersson</td>\n",
       "      <td>Andersson347082</td>\n",
       "    </tr>\n",
       "    <tr>\n",
       "      <th>69</th>\n",
       "      <td>Andersson, Miss. Erna Alexandra</td>\n",
       "      <td>female</td>\n",
       "      <td>17.0</td>\n",
       "      <td>1.0</td>\n",
       "      <td>3</td>\n",
       "      <td>3101281</td>\n",
       "      <td>Train</td>\n",
       "      <td>Andersson</td>\n",
       "      <td>Andersson3101281</td>\n",
       "    </tr>\n",
       "    <tr>\n",
       "      <th>120</th>\n",
       "      <td>Andersson, Miss. Ellis Anna Maria</td>\n",
       "      <td>female</td>\n",
       "      <td>2.0</td>\n",
       "      <td>0.0</td>\n",
       "      <td>3</td>\n",
       "      <td>347082</td>\n",
       "      <td>Train</td>\n",
       "      <td>Andersson</td>\n",
       "      <td>Andersson347082</td>\n",
       "    </tr>\n",
       "    <tr>\n",
       "      <th>611</th>\n",
       "      <td>Andersson, Mrs. Anders Johan (Alfrida Konstant...</td>\n",
       "      <td>female</td>\n",
       "      <td>39.0</td>\n",
       "      <td>0.0</td>\n",
       "      <td>3</td>\n",
       "      <td>347082</td>\n",
       "      <td>Train</td>\n",
       "      <td>Andersson</td>\n",
       "      <td>Andersson347082</td>\n",
       "    </tr>\n",
       "    <tr>\n",
       "      <th>147</th>\n",
       "      <td>Andersson, Mr. August Edvard (\"Wennerstrom\")</td>\n",
       "      <td>male</td>\n",
       "      <td>27.0</td>\n",
       "      <td>1.0</td>\n",
       "      <td>3</td>\n",
       "      <td>350043</td>\n",
       "      <td>Train</td>\n",
       "      <td>Andersson</td>\n",
       "      <td>Andersson350043</td>\n",
       "    </tr>\n",
       "    <tr>\n",
       "      <th>851</th>\n",
       "      <td>Andersson, Master. Sigvard Harald Elias</td>\n",
       "      <td>male</td>\n",
       "      <td>4.0</td>\n",
       "      <td>0.0</td>\n",
       "      <td>3</td>\n",
       "      <td>347082</td>\n",
       "      <td>Train</td>\n",
       "      <td>Andersson</td>\n",
       "      <td>Andersson347082</td>\n",
       "    </tr>\n",
       "    <tr>\n",
       "      <th>14</th>\n",
       "      <td>Andersson, Mr. Anders Johan</td>\n",
       "      <td>male</td>\n",
       "      <td>39.0</td>\n",
       "      <td>0.0</td>\n",
       "      <td>3</td>\n",
       "      <td>347082</td>\n",
       "      <td>Train</td>\n",
       "      <td>Andersson</td>\n",
       "      <td>Andersson347082</td>\n",
       "    </tr>\n",
       "    <tr>\n",
       "      <th>1212</th>\n",
       "      <td>Andersson, Mr. Johan Samuel</td>\n",
       "      <td>male</td>\n",
       "      <td>26.0</td>\n",
       "      <td>NaN</td>\n",
       "      <td>3</td>\n",
       "      <td>347075</td>\n",
       "      <td>Test</td>\n",
       "      <td>Andersson</td>\n",
       "      <td>Andersson347075</td>\n",
       "    </tr>\n",
       "    <tr>\n",
       "      <th>1106</th>\n",
       "      <td>Andersson, Miss. Ida Augusta Margareta</td>\n",
       "      <td>female</td>\n",
       "      <td>38.0</td>\n",
       "      <td>NaN</td>\n",
       "      <td>3</td>\n",
       "      <td>347091</td>\n",
       "      <td>Test</td>\n",
       "      <td>Andersson</td>\n",
       "      <td>Andersson347091</td>\n",
       "    </tr>\n",
       "  </tbody>\n",
       "</table>\n",
       "</div>"
      ],
      "text/plain": [
       "                                                          Name     Sex   Age  \\\n",
       "PassengerId                                                                    \n",
       "542                       Andersson, Miss. Ingeborg Constanzia  female   9.0   \n",
       "814                         Andersson, Miss. Ebba Iris Alfrida  female   6.0   \n",
       "543                          Andersson, Miss. Sigrid Elisabeth  female  11.0   \n",
       "69                             Andersson, Miss. Erna Alexandra  female  17.0   \n",
       "120                          Andersson, Miss. Ellis Anna Maria  female   2.0   \n",
       "611          Andersson, Mrs. Anders Johan (Alfrida Konstant...  female  39.0   \n",
       "147               Andersson, Mr. August Edvard (\"Wennerstrom\")    male  27.0   \n",
       "851                    Andersson, Master. Sigvard Harald Elias    male   4.0   \n",
       "14                                 Andersson, Mr. Anders Johan    male  39.0   \n",
       "1212                               Andersson, Mr. Johan Samuel    male  26.0   \n",
       "1106                    Andersson, Miss. Ida Augusta Margareta  female  38.0   \n",
       "\n",
       "             Survived  Pclass   Ticket TrainTest FamilyName  FamilyNameTicket  \n",
       "PassengerId                                                                    \n",
       "542               0.0       3   347082     Train  Andersson   Andersson347082  \n",
       "814               0.0       3   347082     Train  Andersson   Andersson347082  \n",
       "543               0.0       3   347082     Train  Andersson   Andersson347082  \n",
       "69                1.0       3  3101281     Train  Andersson  Andersson3101281  \n",
       "120               0.0       3   347082     Train  Andersson   Andersson347082  \n",
       "611               0.0       3   347082     Train  Andersson   Andersson347082  \n",
       "147               1.0       3   350043     Train  Andersson   Andersson350043  \n",
       "851               0.0       3   347082     Train  Andersson   Andersson347082  \n",
       "14                0.0       3   347082     Train  Andersson   Andersson347082  \n",
       "1212              NaN       3   347075      Test  Andersson   Andersson347075  \n",
       "1106              NaN       3   347091      Test  Andersson   Andersson347091  "
      ]
     },
     "execution_count": 23,
     "metadata": {},
     "output_type": "execute_result"
    }
   ],
   "source": [
    "FAMILY_NAME = \"Andersson\"\n",
    "X_[(X_[\"FamilyName\"] == FAMILY_NAME)].groupby([\"FamilyNameTicket\"])[\"Survived\"].mean()\n",
    "X_[(X_[\"FamilyName\"] == FAMILY_NAME)]"
   ]
  },
  {
   "cell_type": "markdown",
   "metadata": {
    "papermill": {
     "duration": 0.048936,
     "end_time": "2021-03-24T12:59:25.097826",
     "exception": false,
     "start_time": "2021-03-24T12:59:25.048890",
     "status": "completed"
    },
    "tags": []
   },
   "source": [
    "<a id = \"fe\"></a>\n",
    "# Feature engineering\n",
    "[Go back to the table of contets](#toc)\n",
    "\n",
    "Some cells might be hidden, use the ***unhide button*** to see all the code."
   ]
  },
  {
   "cell_type": "code",
   "execution_count": 24,
   "metadata": {
    "execution": {
     "iopub.execute_input": "2021-03-24T12:59:25.210387Z",
     "iopub.status.busy": "2021-03-24T12:59:25.209556Z",
     "iopub.status.idle": "2021-03-24T12:59:25.286700Z",
     "shell.execute_reply": "2021-03-24T12:59:25.286039Z"
    },
    "papermill": {
     "duration": 0.139768,
     "end_time": "2021-03-24T12:59:25.286841",
     "exception": false,
     "start_time": "2021-03-24T12:59:25.147073",
     "status": "completed"
    },
    "tags": []
   },
   "outputs": [
    {
     "ename": "NameError",
     "evalue": "name 'data_loader' is not defined",
     "output_type": "error",
     "traceback": [
      "\u001b[0;31m---------------------------------------------------------------------------\u001b[0m",
      "\u001b[0;31mNameError\u001b[0m                                 Traceback (most recent call last)",
      "\u001b[0;32m<ipython-input-24-7c0238b5aaed>\u001b[0m in \u001b[0;36m<module>\u001b[0;34m\u001b[0m\n\u001b[1;32m      1\u001b[0m \u001b[0;31m# data loading\u001b[0m\u001b[0;34m\u001b[0m\u001b[0;34m\u001b[0m\u001b[0;34m\u001b[0m\u001b[0m\n\u001b[0;32m----> 2\u001b[0;31m \u001b[0mX_train\u001b[0m\u001b[0;34m,\u001b[0m \u001b[0mX_test\u001b[0m \u001b[0;34m=\u001b[0m \u001b[0mdata_loader\u001b[0m\u001b[0;34m.\u001b[0m\u001b[0mload_data\u001b[0m\u001b[0;34m(\u001b[0m\u001b[0;34m)\u001b[0m\u001b[0;34m\u001b[0m\u001b[0;34m\u001b[0m\u001b[0m\n\u001b[0m\u001b[1;32m      3\u001b[0m \u001b[0my\u001b[0m \u001b[0;34m=\u001b[0m \u001b[0mX_train\u001b[0m\u001b[0;34m[\u001b[0m\u001b[0;34m\"Survived\"\u001b[0m\u001b[0;34m]\u001b[0m\u001b[0;34m\u001b[0m\u001b[0;34m\u001b[0m\u001b[0m\n\u001b[1;32m      4\u001b[0m \u001b[0mX_train\u001b[0m\u001b[0;34m.\u001b[0m\u001b[0mdrop\u001b[0m\u001b[0;34m(\u001b[0m\u001b[0;34m\"Survived\"\u001b[0m\u001b[0;34m,\u001b[0m \u001b[0minplace\u001b[0m \u001b[0;34m=\u001b[0m \u001b[0;32mTrue\u001b[0m\u001b[0;34m,\u001b[0m \u001b[0maxis\u001b[0m \u001b[0;34m=\u001b[0m \u001b[0;36m1\u001b[0m\u001b[0;34m)\u001b[0m\u001b[0;34m\u001b[0m\u001b[0;34m\u001b[0m\u001b[0m\n\u001b[1;32m      5\u001b[0m \u001b[0;34m\u001b[0m\u001b[0m\n",
      "\u001b[0;31mNameError\u001b[0m: name 'data_loader' is not defined"
     ]
    }
   ],
   "source": [
    "# data loading\n",
    "X_train, X_test = data_loader.load_data()\n",
    "y = X_train[\"Survived\"]\n",
    "X_train.drop(\"Survived\", inplace = True, axis = 1)\n",
    "\n",
    "# separate columns by type and assert all columns are selected\n",
    "numeric_columns = X_train.select_dtypes(include = np.number).columns.tolist()\n",
    "object_columns = X_train.select_dtypes(exclude = np.number).columns.tolist()\n",
    "assert (len(numeric_columns) + len(object_columns)) == X_train.shape[1], \"You have missed some columns\"\n",
    "\n",
    "# Pipeline building\n",
    "\n",
    "# define model for full pipeline\n",
    "model = LogisticRegression()\n",
    "model_name = str(model).split(\"(\")[0]\n",
    "\n",
    "\n",
    "# imputation pipeline\n",
    "impute_ct = ColumnTransformer(transformers = [\n",
    "    (\"numeric_impute\", SimpleImputer(strategy = \"mean\"), numeric_columns),\n",
    "    (\"categorical_impute\", SimpleImputer(strategy = \"most_frequent\"), object_columns)\n",
    "], remainder = \"drop\", n_jobs = -1)\n",
    "\n",
    "impute_pipeline = Pipeline(steps = [\n",
    "    (\"impute_ct\", impute_ct),\n",
    "    (\"numpy_to_dataframe\", NumpyToDataFrame(columns = numeric_columns + object_columns))\n",
    "])\n",
    "\n",
    "# encoder = OneHotEncoder(handle_unknown = \"ignore\")\n",
    "encoder = OrdinalEncoder()\n",
    "\n",
    "# ohe columns transformation\n",
    "encoding_columns = [\n",
    "    \"Sex\", \n",
    "    \"Embarked\", \n",
    "    \"AgeQcut\", \n",
    "    \"PclassSex\",\n",
    "    \"Title\"\n",
    "]\n",
    "encoding_pipeline = ColumnTransformer(transformers = [\n",
    "    (\"encoder\", encoder, encoding_columns)\n",
    "], remainder = \"passthrough\")\n",
    "\n",
    "columns_to_drop = [\n",
    "    \"Name\",\n",
    "    \"NameSplitted\",\n",
    "    \"Ticket\",\n",
    "    \"Cabin\"\n",
    "]\n",
    "\n",
    "columns_to_scale = [\n",
    "    \"Age\", \n",
    "    \"Fare\"\n",
    "]\n",
    "\n",
    "# scaler pipeline\n",
    "scale_pipe = ColumnTransformer(transformers = [\n",
    "    (\"scaler\", StandardScaler(), columns_to_scale)\n",
    "])\n",
    "\n",
    "# feature generator pipeline\n",
    "fe_pipeline = Pipeline(steps = [\n",
    "    (\"feature_generator\", FeatureGenerator()),\n",
    "    (\"ticket_extraction\", TicketExtractor()),\n",
    "    # (\"scale_pipe\", scale_pipe),\n",
    "    (\"title_extraction\", TitleExtractor(cleaning_dict = cleaning_dict)),\n",
    "    (\"column_dropper\", ColumnDropper(columns_to_drop = columns_to_drop)),\n",
    "    (\"encoding_pipeline\", encoding_pipeline)\n",
    "])\n",
    "\n",
    "# imputation and fe_pipeline\n",
    "imp_fe_pipeline = Pipeline(steps = [\n",
    "    (\"impute_pipeline\", impute_pipeline),\n",
    "    (\"fe_pipeline\", fe_pipeline)\n",
    "])\n",
    "\n",
    "full_pipeline = Pipeline(steps = [\n",
    "    (\"imp_fe_pipeline\", imp_fe_pipeline),\n",
    "    (\"model\", model)\n",
    "])\n",
    "\n",
    "X_transformed = imp_fe_pipeline.fit_transform(X_train)"
   ]
  },
  {
   "cell_type": "markdown",
   "metadata": {
    "papermill": {
     "duration": 0.049036,
     "end_time": "2021-03-24T12:59:25.385863",
     "exception": false,
     "start_time": "2021-03-24T12:59:25.336827",
     "status": "completed"
    },
    "tags": []
   },
   "source": [
    "<a id = \"model_training\"></a>\n",
    "# KFold model training\n",
    "[Go back to the table of contets](#toc)\n",
    "\n",
    "Some cells might be hidden, use the ***unhide button*** to see all the code."
   ]
  },
  {
   "cell_type": "code",
   "execution_count": 25,
   "metadata": {
    "execution": {
     "iopub.execute_input": "2021-03-24T12:59:25.489376Z",
     "iopub.status.busy": "2021-03-24T12:59:25.488489Z",
     "iopub.status.idle": "2021-03-24T12:59:25.492976Z",
     "shell.execute_reply": "2021-03-24T12:59:25.492393Z"
    },
    "papermill": {
     "duration": 0.058443,
     "end_time": "2021-03-24T12:59:25.493122",
     "exception": false,
     "start_time": "2021-03-24T12:59:25.434679",
     "status": "completed"
    },
    "tags": []
   },
   "outputs": [
    {
     "data": {
      "text/plain": [
       "'\\n# grid search\\nif model_name == \"RandomForestClassifier\":\\n    param_grid = {\\n        \"model__n_estimators\": [100, 200, 300],\\n        \"model__criterion\": [\\'gini\\', \"entropy\"],\\n        \"model__max_depth\": [None, 1, 2, 3, 4, 5, 6, 7, 8, 9, 10]\\n    }\\n    \\nelif model_name == \"LogisticRegression\":\\n    param_grid = {\\n        \\'model__C\\': np.logspace(-5, 5, 5),\\n        \\'model__penalty\\': [\"l1\", \"l2\"],\\n        \\'model__warm_start\\': [True, False]        \\n    }\\n\\n\\ngrid = GridSearchCV(\\n    estimator = clone(model), \\n    param_grid = param_grid, \\n    scoring = \"accuracy\",\\n    refit = True,\\n    n_jobs = -1)\\n\\ngrid.fit(X_transformed, y)\\n\\ngrid.best_estimator_[\"model\"]\\n'"
      ]
     },
     "execution_count": 25,
     "metadata": {},
     "output_type": "execute_result"
    }
   ],
   "source": [
    "'''\n",
    "# grid search\n",
    "if model_name == \"RandomForestClassifier\":\n",
    "    param_grid = {\n",
    "        \"model__n_estimators\": [100, 200, 300],\n",
    "        \"model__criterion\": ['gini', \"entropy\"],\n",
    "        \"model__max_depth\": [None, 1, 2, 3, 4, 5, 6, 7, 8, 9, 10]\n",
    "    }\n",
    "    \n",
    "elif model_name == \"LogisticRegression\":\n",
    "    param_grid = {\n",
    "        'model__C': np.logspace(-5, 5, 5),\n",
    "        'model__penalty': [\"l1\", \"l2\"],\n",
    "        'model__warm_start': [True, False]        \n",
    "    }\n",
    "\n",
    "\n",
    "grid = GridSearchCV(\n",
    "    estimator = clone(model), \n",
    "    param_grid = param_grid, \n",
    "    scoring = \"accuracy\",\n",
    "    refit = True,\n",
    "    n_jobs = -1)\n",
    "\n",
    "grid.fit(X_transformed, y)\n",
    "\n",
    "grid.best_estimator_[\"model\"]\n",
    "'''"
   ]
  },
  {
   "cell_type": "code",
   "execution_count": 26,
   "metadata": {
    "execution": {
     "iopub.execute_input": "2021-03-24T12:59:25.596959Z",
     "iopub.status.busy": "2021-03-24T12:59:25.596111Z",
     "iopub.status.idle": "2021-03-24T12:59:25.600685Z",
     "shell.execute_reply": "2021-03-24T12:59:25.600108Z"
    },
    "papermill": {
     "duration": 0.058707,
     "end_time": "2021-03-24T12:59:25.600815",
     "exception": false,
     "start_time": "2021-03-24T12:59:25.542108",
     "status": "completed"
    },
    "tags": []
   },
   "outputs": [
    {
     "data": {
      "text/plain": [
       "'\\nX_train_transformed = full_pipeline.fit_transform(X_train)\\n    \\ncv_scores = []\\n\\nkfold = KFold(n_splits = FOLDS)\\n\\nfor train_index, valida_index in kfold.split(X_train_transformed):\\n    \\n    model_ = clone(model)\\n    \\n    X_train_, y_train_ = X_train_transformed[train_index], y.values[train_index]\\n    X_val_, y_val = X_train_transformed[valida_index], y.values[valida_index]\\n    \\n    model_.fit(X_train_, y_train_)\\n    kfold_pred = model_.predict(X_val_)\\n    cv_scores.append(accuracy_score(y_val, kfold_pred))\\n    \\nmean_cv_score = round(np.mean(cv_scores), 5)\\n\\nvalida_score = \"-\"\\nprint(\"KFold score is {}\".format(cv_scores))\\nprint(\"|Version |{}|{}|{}|{}|{}||\".format(mean_cv_score, valida_score, FOLDS, \"-\", model_name))\\n'"
      ]
     },
     "execution_count": 26,
     "metadata": {},
     "output_type": "execute_result"
    }
   ],
   "source": [
    "'''\n",
    "X_train_transformed = full_pipeline.fit_transform(X_train)\n",
    "    \n",
    "cv_scores = []\n",
    "\n",
    "kfold = KFold(n_splits = FOLDS)\n",
    "\n",
    "for train_index, valida_index in kfold.split(X_train_transformed):\n",
    "    \n",
    "    model_ = clone(model)\n",
    "    \n",
    "    X_train_, y_train_ = X_train_transformed[train_index], y.values[train_index]\n",
    "    X_val_, y_val = X_train_transformed[valida_index], y.values[valida_index]\n",
    "    \n",
    "    model_.fit(X_train_, y_train_)\n",
    "    kfold_pred = model_.predict(X_val_)\n",
    "    cv_scores.append(accuracy_score(y_val, kfold_pred))\n",
    "    \n",
    "mean_cv_score = round(np.mean(cv_scores), 5)\n",
    "\n",
    "valida_score = \"-\"\n",
    "print(\"KFold score is {}\".format(cv_scores))\n",
    "print(\"|Version |{}|{}|{}|{}|{}||\".format(mean_cv_score, valida_score, FOLDS, \"-\", model_name))\n",
    "'''"
   ]
  },
  {
   "cell_type": "code",
   "execution_count": 27,
   "metadata": {
    "execution": {
     "iopub.execute_input": "2021-03-24T12:59:25.718746Z",
     "iopub.status.busy": "2021-03-24T12:59:25.717284Z",
     "iopub.status.idle": "2021-03-24T12:59:25.723097Z",
     "shell.execute_reply": "2021-03-24T12:59:25.722559Z"
    },
    "papermill": {
     "duration": 0.07234,
     "end_time": "2021-03-24T12:59:25.723250",
     "exception": false,
     "start_time": "2021-03-24T12:59:25.650910",
     "status": "completed"
    },
    "tags": []
   },
   "outputs": [
    {
     "ename": "NameError",
     "evalue": "name 'imp_fe_pipeline' is not defined",
     "output_type": "error",
     "traceback": [
      "\u001b[0;31m---------------------------------------------------------------------------\u001b[0m",
      "\u001b[0;31mNameError\u001b[0m                                 Traceback (most recent call last)",
      "\u001b[0;32m<ipython-input-27-e286956bd90c>\u001b[0m in \u001b[0;36m<module>\u001b[0;34m\u001b[0m\n\u001b[0;32m----> 1\u001b[0;31m \u001b[0mX_transformed\u001b[0m \u001b[0;34m=\u001b[0m \u001b[0mimp_fe_pipeline\u001b[0m\u001b[0;34m.\u001b[0m\u001b[0mfit_transform\u001b[0m\u001b[0;34m(\u001b[0m\u001b[0mX_train\u001b[0m\u001b[0;34m)\u001b[0m\u001b[0;34m\u001b[0m\u001b[0;34m\u001b[0m\u001b[0m\n\u001b[0m\u001b[1;32m      2\u001b[0m \u001b[0;34m\u001b[0m\u001b[0m\n\u001b[1;32m      3\u001b[0m cv_scores = cross_val_score(\n\u001b[1;32m      4\u001b[0m     \u001b[0mestimator\u001b[0m \u001b[0;34m=\u001b[0m \u001b[0mclone\u001b[0m\u001b[0;34m(\u001b[0m\u001b[0mmodel\u001b[0m\u001b[0;34m)\u001b[0m\u001b[0;34m,\u001b[0m\u001b[0;34m\u001b[0m\u001b[0;34m\u001b[0m\u001b[0m\n\u001b[1;32m      5\u001b[0m     \u001b[0mX\u001b[0m \u001b[0;34m=\u001b[0m \u001b[0mX_transformed\u001b[0m\u001b[0;34m,\u001b[0m\u001b[0;34m\u001b[0m\u001b[0;34m\u001b[0m\u001b[0m\n",
      "\u001b[0;31mNameError\u001b[0m: name 'imp_fe_pipeline' is not defined"
     ]
    }
   ],
   "source": [
    "X_transformed = imp_fe_pipeline.fit_transform(X_train)\n",
    "\n",
    "cv_scores = cross_val_score(\n",
    "    estimator = clone(model),\n",
    "    X = X_transformed,\n",
    "    y = y,\n",
    "    cv = FOLDS,\n",
    "    n_jobs = -1,\n",
    "    scoring = \"accuracy\"\n",
    ")\n",
    "\n",
    "mean_cv_score = round(np.mean(cv_scores), 5)\n",
    "\n",
    "valida_score = \"-\"\n",
    "print(\"KFold score is {}\".format(cv_scores))\n",
    "print(\"|Version |{}|{}|{}|{}|{}||\".format(mean_cv_score, valida_score, FOLDS, \"-\", model_name))\n",
    "\n",
    "cv_predictions = cross_val_predict(\n",
    "    estimator = clone(model),\n",
    "    X = X_transformed,\n",
    "    y = y,\n",
    "    cv = FOLDS,\n",
    "    method = \"predict\",\n",
    "    n_jobs = -1\n",
    ")\n",
    "\n",
    "cm = confusion_matrix(y, cv_predictions)\n",
    "print()\n",
    "print(\"Confusion Matrix\")\n",
    "print(cm)"
   ]
  },
  {
   "cell_type": "code",
   "execution_count": 28,
   "metadata": {
    "execution": {
     "iopub.execute_input": "2021-03-24T12:59:25.830843Z",
     "iopub.status.busy": "2021-03-24T12:59:25.830139Z",
     "iopub.status.idle": "2021-03-24T12:59:25.833781Z",
     "shell.execute_reply": "2021-03-24T12:59:25.833237Z"
    },
    "papermill": {
     "duration": 0.059198,
     "end_time": "2021-03-24T12:59:25.833915",
     "exception": false,
     "start_time": "2021-03-24T12:59:25.774717",
     "status": "completed"
    },
    "tags": []
   },
   "outputs": [
    {
     "data": {
      "text/plain": [
       "'\\n# full pipe with title\\nConfusion Matrix\\n[[488  61]\\n [110 232]]\\n\\n# pipe without title\\nConfusion Matrix\\n[[495  54]\\n [125 217]]\\n \\n # OE and RandomForest\\n Confusion Matrix\\n[[478  71]\\n [ 92 250]]\\n'"
      ]
     },
     "execution_count": 28,
     "metadata": {},
     "output_type": "execute_result"
    }
   ],
   "source": [
    "'''\n",
    "# full pipe with title\n",
    "Confusion Matrix\n",
    "[[488  61]\n",
    " [110 232]]\n",
    "\n",
    "# pipe without title\n",
    "Confusion Matrix\n",
    "[[495  54]\n",
    " [125 217]]\n",
    " \n",
    " # OE and RandomForest\n",
    " Confusion Matrix\n",
    "[[478  71]\n",
    " [ 92 250]]\n",
    "'''"
   ]
  },
  {
   "cell_type": "markdown",
   "metadata": {
    "papermill": {
     "duration": 0.051867,
     "end_time": "2021-03-24T12:59:25.937064",
     "exception": false,
     "start_time": "2021-03-24T12:59:25.885197",
     "status": "completed"
    },
    "tags": []
   },
   "source": [
    "<a id = \"test_data_prep_pred\"></a>\n",
    "# Test data preparation and predict\n",
    "[Go back to the table of contets](#toc)\n",
    "\n",
    "Some cells might be hidden, use the ***unhide button*** to see all the code."
   ]
  },
  {
   "cell_type": "code",
   "execution_count": 29,
   "metadata": {
    "_kg_hide-input": false,
    "_kg_hide-output": false,
    "execution": {
     "iopub.execute_input": "2021-03-24T12:59:26.054744Z",
     "iopub.status.busy": "2021-03-24T12:59:26.053652Z",
     "iopub.status.idle": "2021-03-24T12:59:26.058660Z",
     "shell.execute_reply": "2021-03-24T12:59:26.058051Z"
    },
    "papermill": {
     "duration": 0.069675,
     "end_time": "2021-03-24T12:59:26.058824",
     "exception": false,
     "start_time": "2021-03-24T12:59:25.989149",
     "status": "completed"
    },
    "tags": []
   },
   "outputs": [
    {
     "ename": "NameError",
     "evalue": "name 'full_pipeline' is not defined",
     "output_type": "error",
     "traceback": [
      "\u001b[0;31m---------------------------------------------------------------------------\u001b[0m",
      "\u001b[0;31mNameError\u001b[0m                                 Traceback (most recent call last)",
      "\u001b[0;32m<ipython-input-29-00aae00b16aa>\u001b[0m in \u001b[0;36m<module>\u001b[0;34m\u001b[0m\n\u001b[0;32m----> 1\u001b[0;31m \u001b[0mfull_pipeline\u001b[0m\u001b[0;34m.\u001b[0m\u001b[0mfit\u001b[0m\u001b[0;34m(\u001b[0m\u001b[0mX_train\u001b[0m\u001b[0;34m,\u001b[0m \u001b[0my\u001b[0m\u001b[0;34m.\u001b[0m\u001b[0mvalues\u001b[0m\u001b[0;34m)\u001b[0m\u001b[0;34m\u001b[0m\u001b[0;34m\u001b[0m\u001b[0m\n\u001b[0m\u001b[1;32m      2\u001b[0m \u001b[0my_test_pred\u001b[0m \u001b[0;34m=\u001b[0m \u001b[0mfull_pipeline\u001b[0m\u001b[0;34m.\u001b[0m\u001b[0mpredict\u001b[0m\u001b[0;34m(\u001b[0m\u001b[0mX_test\u001b[0m\u001b[0;34m)\u001b[0m\u001b[0;34m\u001b[0m\u001b[0;34m\u001b[0m\u001b[0m\n",
      "\u001b[0;31mNameError\u001b[0m: name 'full_pipeline' is not defined"
     ]
    }
   ],
   "source": [
    "full_pipeline.fit(X_train, y.values)\n",
    "y_test_pred = full_pipeline.predict(X_test)"
   ]
  },
  {
   "cell_type": "markdown",
   "metadata": {
    "papermill": {
     "duration": 0.052338,
     "end_time": "2021-03-24T12:59:26.163562",
     "exception": false,
     "start_time": "2021-03-24T12:59:26.111224",
     "status": "completed"
    },
    "tags": []
   },
   "source": [
    "<a id = \"kaggle_sub\"></a>\n",
    "# Kaggle submission\n",
    "[Go back to the table of contets](#toc)\n",
    "\n",
    "Some cells might be hidden, use the ***unhide button*** to see all the code."
   ]
  },
  {
   "cell_type": "code",
   "execution_count": 30,
   "metadata": {
    "_kg_hide-input": false,
    "_kg_hide-output": false,
    "execution": {
     "iopub.execute_input": "2021-03-24T12:59:26.282244Z",
     "iopub.status.busy": "2021-03-24T12:59:26.281532Z",
     "iopub.status.idle": "2021-03-24T12:59:26.284637Z",
     "shell.execute_reply": "2021-03-24T12:59:26.285220Z"
    },
    "papermill": {
     "duration": 0.069797,
     "end_time": "2021-03-24T12:59:26.285413",
     "exception": false,
     "start_time": "2021-03-24T12:59:26.215616",
     "status": "completed"
    },
    "tags": []
   },
   "outputs": [
    {
     "ename": "NameError",
     "evalue": "name 'X_test' is not defined",
     "output_type": "error",
     "traceback": [
      "\u001b[0;31m---------------------------------------------------------------------------\u001b[0m",
      "\u001b[0;31mNameError\u001b[0m                                 Traceback (most recent call last)",
      "\u001b[0;32m<ipython-input-30-0fb8e90f5aa4>\u001b[0m in \u001b[0;36m<module>\u001b[0;34m\u001b[0m\n\u001b[1;32m      1\u001b[0m \u001b[0msubmission\u001b[0m \u001b[0;34m=\u001b[0m \u001b[0mpd\u001b[0m\u001b[0;34m.\u001b[0m\u001b[0mDataFrame\u001b[0m\u001b[0;34m(\u001b[0m\u001b[0;34m)\u001b[0m\u001b[0;34m\u001b[0m\u001b[0;34m\u001b[0m\u001b[0m\n\u001b[1;32m      2\u001b[0m \u001b[0;34m\u001b[0m\u001b[0m\n\u001b[0;32m----> 3\u001b[0;31m \u001b[0msubmission\u001b[0m\u001b[0;34m[\u001b[0m\u001b[0;34m\"PassengerId\"\u001b[0m\u001b[0;34m]\u001b[0m \u001b[0;34m=\u001b[0m \u001b[0mX_test\u001b[0m\u001b[0;34m.\u001b[0m\u001b[0mindex\u001b[0m\u001b[0;34m\u001b[0m\u001b[0;34m\u001b[0m\u001b[0m\n\u001b[0m\u001b[1;32m      4\u001b[0m \u001b[0msubmission\u001b[0m\u001b[0;34m[\u001b[0m\u001b[0;34m\"Survived\"\u001b[0m\u001b[0;34m]\u001b[0m \u001b[0;34m=\u001b[0m \u001b[0my_test_pred\u001b[0m\u001b[0;34m\u001b[0m\u001b[0;34m\u001b[0m\u001b[0m\n\u001b[1;32m      5\u001b[0m \u001b[0msubmission\u001b[0m\u001b[0;34m.\u001b[0m\u001b[0mset_index\u001b[0m\u001b[0;34m(\u001b[0m\u001b[0;34m\"PassengerId\"\u001b[0m\u001b[0;34m,\u001b[0m \u001b[0minplace\u001b[0m \u001b[0;34m=\u001b[0m \u001b[0;32mTrue\u001b[0m\u001b[0;34m)\u001b[0m\u001b[0;34m\u001b[0m\u001b[0;34m\u001b[0m\u001b[0m\n",
      "\u001b[0;31mNameError\u001b[0m: name 'X_test' is not defined"
     ]
    }
   ],
   "source": [
    "submission = pd.DataFrame()\n",
    "\n",
    "submission[\"PassengerId\"] = X_test.index\n",
    "submission[\"Survived\"] = y_test_pred\n",
    "submission.set_index(\"PassengerId\", inplace = True)\n",
    "submission.to_csv(\"submission.csv\")"
   ]
  },
  {
   "cell_type": "markdown",
   "metadata": {
    "papermill": {
     "duration": 0.050987,
     "end_time": "2021-03-24T12:59:26.387882",
     "exception": false,
     "start_time": "2021-03-24T12:59:26.336895",
     "status": "completed"
    },
    "tags": []
   },
   "source": [
    "<a id = \"cv_vs_kaggle_lb\"></a>\n",
    "# CV vs Kaggle LB\n",
    "[Go back to the table of contets](#toc)\n",
    "\n",
    "Some cells might be hidden, use the ***unhide button*** to see all the code."
   ]
  },
  {
   "cell_type": "code",
   "execution_count": 31,
   "metadata": {
    "_kg_hide-input": true,
    "_kg_hide-output": false,
    "execution": {
     "iopub.execute_input": "2021-03-24T12:59:26.493982Z",
     "iopub.status.busy": "2021-03-24T12:59:26.493378Z",
     "iopub.status.idle": "2021-03-24T12:59:26.508174Z",
     "shell.execute_reply": "2021-03-24T12:59:26.507464Z"
    },
    "papermill": {
     "duration": 0.068644,
     "end_time": "2021-03-24T12:59:26.508316",
     "exception": false,
     "start_time": "2021-03-24T12:59:26.439672",
     "status": "completed"
    },
    "tags": []
   },
   "outputs": [
    {
     "ename": "NameError",
     "evalue": "name 'mean_cv_score' is not defined",
     "output_type": "error",
     "traceback": [
      "\u001b[0;31m---------------------------------------------------------------------------\u001b[0m",
      "\u001b[0;31mNameError\u001b[0m                                 Traceback (most recent call last)",
      "\u001b[0;32m<ipython-input-31-cf83393e04e2>\u001b[0m in \u001b[0;36m<module>\u001b[0;34m\u001b[0m\n\u001b[1;32m      1\u001b[0m \u001b[0mvalida_score\u001b[0m \u001b[0;34m=\u001b[0m \u001b[0;34m\"-\"\u001b[0m\u001b[0;34m\u001b[0m\u001b[0;34m\u001b[0m\u001b[0m\n\u001b[0;32m----> 2\u001b[0;31m \u001b[0mprint\u001b[0m\u001b[0;34m(\u001b[0m\u001b[0;34m\"|Version |{}|{}|{}|{}|{}|{}|Comments|\"\u001b[0m\u001b[0;34m.\u001b[0m\u001b[0mformat\u001b[0m\u001b[0;34m(\u001b[0m\u001b[0mmean_cv_score\u001b[0m\u001b[0;34m,\u001b[0m \u001b[0mcv_scores\u001b[0m\u001b[0;34m,\u001b[0m\u001b[0mvalida_score\u001b[0m\u001b[0;34m,\u001b[0m \u001b[0mFOLDS\u001b[0m\u001b[0;34m,\u001b[0m \u001b[0;34m\"-\"\u001b[0m\u001b[0;34m,\u001b[0m \u001b[0mmodel_name\u001b[0m\u001b[0;34m)\u001b[0m\u001b[0;34m)\u001b[0m\u001b[0;34m\u001b[0m\u001b[0;34m\u001b[0m\u001b[0m\n\u001b[0m",
      "\u001b[0;31mNameError\u001b[0m: name 'mean_cv_score' is not defined"
     ]
    }
   ],
   "source": [
    "valida_score = \"-\"\n",
    "print(\"|Version |{}|{}|{}|{}|{}|{}|Comments|\".format(mean_cv_score, cv_scores,valida_score, FOLDS, \"-\", model_name))"
   ]
  },
  {
   "cell_type": "markdown",
   "metadata": {
    "papermill": {
     "duration": 0.052052,
     "end_time": "2021-03-24T12:59:26.613754",
     "exception": false,
     "start_time": "2021-03-24T12:59:26.561702",
     "status": "completed"
    },
    "tags": []
   },
   "source": [
    "|Version Control|Accuracy Train CV|CV_scores|Accuracy Test|CV|Kaggle Score|Model|Comments|\n",
    "|---|---|---|---|---|---|---|---|\n",
    "|Version 1|0.7879||-|4|0.77272|LogisticRegression|A basic pipeline and eda|\n",
    "|Version 5|0.8126||-|4|0.76555|RandomForestClassifier|Clean pipeline for imputation, fe and predict. Have a higher score with version 4, but it uses grid|\n",
    "|Version 6|0.8014||-|4|0.71052|LogisticRegression||\n",
    "|Version 7|0.80472||-|4|0.76315|RandomForestClassifier||\n",
    "|Version 8|0.8137||-|4|0.75119|RandomForestClassifier||\n",
    "|Version 9|0.79128||-|4|0.76315|LogisticRegression||\n",
    "|Version 10|0.80923|[0.79372197 0.8206278  0.78923767 0.83333333]|-|4|0.77033|LogisticRegression||\n",
    "|Version 11|0.82375|[0.82511211 0.82959641 0.85650224 0.78378378]|-|4|0.77272|LogisticRegression||\n",
    "|Version 12|0.82266|[0.8206278  0.84753363 0.81165919 0.81081081]|-|4|0.77511|LogisticRegression|Added Title and Ticket Extraction|\n",
    "|Version 13|0.82042|[0.84304933 0.84304933 0.78026906 0.81531532]|-|4|0.74401|XGBClassifier|Comments|"
   ]
  },
  {
   "cell_type": "markdown",
   "metadata": {
    "papermill": {
     "duration": 0.053204,
     "end_time": "2021-03-24T12:59:26.719755",
     "exception": false,
     "start_time": "2021-03-24T12:59:26.666551",
     "status": "completed"
    },
    "tags": []
   },
   "source": [
    "# The end\n",
    "\n",
    "[Go back to the table of contets](#toc)"
   ]
  }
 ],
 "metadata": {
  "kernelspec": {
   "display_name": "Python 3",
   "language": "python",
   "name": "python3"
  },
  "language_info": {
   "codemirror_mode": {
    "name": "ipython",
    "version": 3
   },
   "file_extension": ".py",
   "mimetype": "text/x-python",
   "name": "python",
   "nbconvert_exporter": "python",
   "pygments_lexer": "ipython3",
   "version": "3.7.9"
  },
  "papermill": {
   "default_parameters": {},
   "duration": 17.565081,
   "end_time": "2021-03-24T12:59:27.381037",
   "environment_variables": {},
   "exception": null,
   "input_path": "__notebook__.ipynb",
   "output_path": "__notebook__.ipynb",
   "parameters": {},
   "start_time": "2021-03-24T12:59:09.815956",
   "version": "2.2.2"
  }
 },
 "nbformat": 4,
 "nbformat_minor": 4
}